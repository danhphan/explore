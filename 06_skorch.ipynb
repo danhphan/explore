{
 "cells": [
  {
   "cell_type": "code",
   "execution_count": null,
   "metadata": {},
   "outputs": [],
   "source": [
    "# default_exp skorch"
   ]
  },
  {
   "cell_type": "markdown",
   "metadata": {},
   "source": [
    "# Testing skorch\n",
    "\n",
    "> Why py explored?"
   ]
  },
  {
   "cell_type": "code",
   "execution_count": null,
   "metadata": {},
   "outputs": [],
   "source": [
    "#hide\n",
    "from nbdev.showdoc import *"
   ]
  },
  {
   "cell_type": "code",
   "execution_count": null,
   "metadata": {},
   "outputs": [
    {
     "name": "stdout",
     "output_type": "stream",
     "text": [
      "  epoch    train_loss    valid_acc    valid_loss     dur\n",
      "-------  ------------  -----------  ------------  ------\n",
      "      1        \u001b[36m0.7018\u001b[0m       \u001b[32m0.6100\u001b[0m        \u001b[35m0.6777\u001b[0m  0.0416\n",
      "      2        \u001b[36m0.6895\u001b[0m       \u001b[32m0.6600\u001b[0m        \u001b[35m0.6645\u001b[0m  0.0454\n",
      "      3        \u001b[36m0.6637\u001b[0m       \u001b[32m0.6800\u001b[0m        \u001b[35m0.6526\u001b[0m  0.0390\n",
      "      4        \u001b[36m0.6624\u001b[0m       \u001b[32m0.7000\u001b[0m        \u001b[35m0.6418\u001b[0m  0.0380\n"
     ]
    },
    {
     "name": "stderr",
     "output_type": "stream",
     "text": [
      "<ipython-input-4-467d7b16a0d1>:27: UserWarning: Implicit dimension choice for softmax has been deprecated. Change the call to include dim=X as an argument.\n",
      "  X = F.softmax(self.output(X))\n",
      "/home/danph/anaconda3/envs/dev/lib/python3.8/site-packages/torch/autograd/__init__.py:130: UserWarning: CUDA initialization: Found no NVIDIA driver on your system. Please check that you have an NVIDIA GPU and installed a driver from http://www.nvidia.com/Download/index.aspx (Triggered internally at  /opt/conda/conda-bld/pytorch_1607370172916/work/c10/cuda/CUDAFunctions.cpp:100.)\n",
      "  Variable._execution_engine.run_backward(\n"
     ]
    },
    {
     "name": "stdout",
     "output_type": "stream",
     "text": [
      "      5        \u001b[36m0.6438\u001b[0m       \u001b[32m0.7200\u001b[0m        \u001b[35m0.6291\u001b[0m  0.0392\n",
      "      6        \u001b[36m0.6299\u001b[0m       0.7200        \u001b[35m0.6195\u001b[0m  0.0395\n",
      "      7        \u001b[36m0.6256\u001b[0m       0.7200        \u001b[35m0.6058\u001b[0m  0.0362\n",
      "      8        \u001b[36m0.6072\u001b[0m       \u001b[32m0.7350\u001b[0m        \u001b[35m0.5945\u001b[0m  0.0419\n",
      "      9        0.6084       0.7250        \u001b[35m0.5890\u001b[0m  0.0389\n",
      "     10        \u001b[36m0.5937\u001b[0m       \u001b[32m0.7400\u001b[0m        \u001b[35m0.5765\u001b[0m  0.0381\n"
     ]
    }
   ],
   "source": [
    "import numpy as np\n",
    "from sklearn.datasets import make_classification\n",
    "from torch import nn\n",
    "import torch.nn.functional as F\n",
    "\n",
    "from skorch import NeuralNetClassifier\n",
    "\n",
    "\n",
    "X, y = make_classification(1000, 20, n_informative=10, random_state=0)\n",
    "X = X.astype(np.float32)\n",
    "y = y.astype(np.int64)\n",
    "\n",
    "class MyModule(nn.Module):\n",
    "    def __init__(self, num_units=10, nonlin=F.relu):\n",
    "        super(MyModule, self).__init__()\n",
    "\n",
    "        self.dense0 = nn.Linear(20, num_units)\n",
    "        self.nonlin = nonlin\n",
    "        self.dropout = nn.Dropout(0.5)\n",
    "        self.dense1 = nn.Linear(num_units, 10)\n",
    "        self.output = nn.Linear(10, 2)\n",
    "\n",
    "    def forward(self, X, **kwargs):\n",
    "        X = self.nonlin(self.dense0(X))\n",
    "        X = self.dropout(X)\n",
    "        X = F.relu(self.dense1(X))\n",
    "        X = F.softmax(self.output(X))\n",
    "        return X\n",
    "\n",
    "\n",
    "net = NeuralNetClassifier(\n",
    "    MyModule,\n",
    "    max_epochs=10,\n",
    "    lr=0.1,\n",
    "    # Shuffle training data on each epoch\n",
    "    iterator_train__shuffle=True,\n",
    ")\n",
    "\n",
    "net.fit(X, y)\n",
    "y_proba = net.predict_proba(X)"
   ]
  },
  {
   "cell_type": "code",
   "execution_count": null,
   "metadata": {},
   "outputs": [
    {
     "name": "stdout",
     "output_type": "stream",
     "text": [
      "  epoch    train_loss    valid_acc    valid_loss     dur\n",
      "-------  ------------  -----------  ------------  ------\n",
      "      1        \u001b[36m0.7338\u001b[0m       \u001b[32m0.5000\u001b[0m        \u001b[35m0.7109\u001b[0m  0.0165\n",
      "      2        \u001b[36m0.7303\u001b[0m       0.5000        \u001b[35m0.7089\u001b[0m  0.0298\n",
      "      3        0.7305       0.5000        \u001b[35m0.7072\u001b[0m  0.0255\n",
      "      4        \u001b[36m0.7279\u001b[0m       0.5000        \u001b[35m0.7059\u001b[0m  0.0232\n",
      "      5        \u001b[36m0.7216\u001b[0m       0.5000        \u001b[35m0.7046\u001b[0m  0.0250\n",
      "      6        0.7242       \u001b[32m0.5075\u001b[0m        \u001b[35m0.7030\u001b[0m  0.0221\n",
      "      7        \u001b[36m0.7189\u001b[0m       0.5075        \u001b[35m0.7020\u001b[0m  0.0172\n"
     ]
    },
    {
     "name": "stderr",
     "output_type": "stream",
     "text": [
      "<ipython-input-4-467d7b16a0d1>:27: UserWarning: Implicit dimension choice for softmax has been deprecated. Change the call to include dim=X as an argument.\n",
      "  X = F.softmax(self.output(X))\n"
     ]
    },
    {
     "name": "stdout",
     "output_type": "stream",
     "text": [
      "      8        0.7193       0.5075        \u001b[35m0.7011\u001b[0m  0.0298\n",
      "      9        \u001b[36m0.7142\u001b[0m       0.5075        \u001b[35m0.6999\u001b[0m  0.0321\n",
      "     10        \u001b[36m0.7094\u001b[0m       0.5075        \u001b[35m0.6987\u001b[0m  0.0230\n",
      "  epoch    train_loss    valid_acc    valid_loss     dur\n",
      "-------  ------------  -----------  ------------  ------\n",
      "      1        \u001b[36m0.7099\u001b[0m       \u001b[32m0.4776\u001b[0m        \u001b[35m0.6918\u001b[0m  0.0216\n",
      "      2        \u001b[36m0.7055\u001b[0m       \u001b[32m0.4925\u001b[0m        \u001b[35m0.6903\u001b[0m  0.0223\n",
      "      3        \u001b[36m0.7023\u001b[0m       \u001b[32m0.5000\u001b[0m        \u001b[35m0.6887\u001b[0m  0.0253\n",
      "      4        0.7145       0.4925        \u001b[35m0.6883\u001b[0m  0.0242\n",
      "      5        \u001b[36m0.7012\u001b[0m       \u001b[32m0.5149\u001b[0m        \u001b[35m0.6870\u001b[0m  0.0170\n",
      "      6        \u001b[36m0.6991\u001b[0m       \u001b[32m0.5299\u001b[0m        \u001b[35m0.6858\u001b[0m  0.0303\n",
      "      7        \u001b[36m0.6935\u001b[0m       0.5299        \u001b[35m0.6852\u001b[0m  0.0281\n"
     ]
    },
    {
     "name": "stderr",
     "output_type": "stream",
     "text": [
      "<ipython-input-4-467d7b16a0d1>:27: UserWarning: Implicit dimension choice for softmax has been deprecated. Change the call to include dim=X as an argument.\n",
      "  X = F.softmax(self.output(X))\n"
     ]
    },
    {
     "name": "stdout",
     "output_type": "stream",
     "text": [
      "      8        0.6980       \u001b[32m0.5448\u001b[0m        \u001b[35m0.6844\u001b[0m  0.0158\n",
      "      9        0.6952       0.5373        \u001b[35m0.6837\u001b[0m  0.0201\n",
      "     10        0.6971       0.5373        \u001b[35m0.6830\u001b[0m  0.0246\n",
      "  epoch    train_loss    valid_acc    valid_loss     dur\n",
      "-------  ------------  -----------  ------------  ------\n",
      "      1        \u001b[36m0.7373\u001b[0m       \u001b[32m0.4851\u001b[0m        \u001b[35m0.7197\u001b[0m  0.0230\n",
      "      2        \u001b[36m0.7243\u001b[0m       0.4851        \u001b[35m0.7170\u001b[0m  0.0254\n",
      "      3        0.7267       0.4776        \u001b[35m0.7150\u001b[0m  0.0254\n",
      "      4        \u001b[36m0.7153\u001b[0m       0.4851        \u001b[35m0.7131\u001b[0m  0.0230\n",
      "      5        \u001b[36m0.7086\u001b[0m       0.4851        \u001b[35m0.7113\u001b[0m  0.0229\n",
      "      6        0.7123       0.4851        \u001b[35m0.7094\u001b[0m  0.0243\n",
      "      7        0.7110       0.4776        \u001b[35m0.7080\u001b[0m  0.0203\n",
      "      8        \u001b[36m0.7048\u001b[0m       0.4851        \u001b[35m0.7063\u001b[0m  0.0170\n"
     ]
    },
    {
     "name": "stderr",
     "output_type": "stream",
     "text": [
      "<ipython-input-4-467d7b16a0d1>:27: UserWarning: Implicit dimension choice for softmax has been deprecated. Change the call to include dim=X as an argument.\n",
      "  X = F.softmax(self.output(X))\n"
     ]
    },
    {
     "name": "stdout",
     "output_type": "stream",
     "text": [
      "      9        \u001b[36m0.7019\u001b[0m       0.4776        \u001b[35m0.7051\u001b[0m  0.0199\n",
      "     10        0.7027       0.4701        \u001b[35m0.7036\u001b[0m  0.0455\n",
      "  epoch    train_loss    valid_acc    valid_loss     dur\n",
      "-------  ------------  -----------  ------------  ------\n",
      "      1        \u001b[36m0.6879\u001b[0m       \u001b[32m0.6716\u001b[0m        \u001b[35m0.6694\u001b[0m  0.0217\n",
      "      2        0.6883       0.6716        \u001b[35m0.6682\u001b[0m  0.0273\n",
      "      3        \u001b[36m0.6878\u001b[0m       0.6642        \u001b[35m0.6671\u001b[0m  0.0199\n",
      "      4        \u001b[36m0.6866\u001b[0m       0.6716        \u001b[35m0.6656\u001b[0m  0.0282\n",
      "      5        \u001b[36m0.6723\u001b[0m       \u001b[32m0.6866\u001b[0m        \u001b[35m0.6645\u001b[0m  0.0238\n",
      "      6        0.6795       \u001b[32m0.6940\u001b[0m        \u001b[35m0.6634\u001b[0m  0.0168\n",
      "      7        0.6840       \u001b[32m0.7090\u001b[0m        \u001b[35m0.6627\u001b[0m  0.0218\n",
      "      8        0.6755       \u001b[32m0.7239\u001b[0m        \u001b[35m0.6623\u001b[0m  0.0236\n"
     ]
    },
    {
     "name": "stderr",
     "output_type": "stream",
     "text": [
      "<ipython-input-4-467d7b16a0d1>:27: UserWarning: Implicit dimension choice for softmax has been deprecated. Change the call to include dim=X as an argument.\n",
      "  X = F.softmax(self.output(X))\n"
     ]
    },
    {
     "name": "stdout",
     "output_type": "stream",
     "text": [
      "      9        0.6817       0.7239        \u001b[35m0.6615\u001b[0m  0.0217\n",
      "     10        0.6785       0.7239        \u001b[35m0.6608\u001b[0m  0.0162\n",
      "  epoch    train_loss    valid_acc    valid_loss     dur\n",
      "-------  ------------  -----------  ------------  ------\n",
      "      1        \u001b[36m0.7018\u001b[0m       \u001b[32m0.5522\u001b[0m        \u001b[35m0.6879\u001b[0m  0.0232\n",
      "      2        0.7023       0.5448        \u001b[35m0.6866\u001b[0m  0.0230\n",
      "      3        0.7059       0.5448        \u001b[35m0.6853\u001b[0m  0.0298\n",
      "      4        \u001b[36m0.6880\u001b[0m       \u001b[32m0.5597\u001b[0m        \u001b[35m0.6843\u001b[0m  0.0240\n",
      "      5        \u001b[36m0.6858\u001b[0m       \u001b[32m0.5672\u001b[0m        \u001b[35m0.6833\u001b[0m  0.0230\n",
      "      6        0.6950       0.5672        \u001b[35m0.6823\u001b[0m  0.0251\n",
      "      7        0.6884       \u001b[32m0.5821\u001b[0m        \u001b[35m0.6815\u001b[0m  0.0235\n"
     ]
    },
    {
     "name": "stderr",
     "output_type": "stream",
     "text": [
      "<ipython-input-4-467d7b16a0d1>:27: UserWarning: Implicit dimension choice for softmax has been deprecated. Change the call to include dim=X as an argument.\n",
      "  X = F.softmax(self.output(X))\n"
     ]
    },
    {
     "name": "stdout",
     "output_type": "stream",
     "text": [
      "      8        0.6932       0.5746        \u001b[35m0.6808\u001b[0m  0.0278\n",
      "      9        0.6897       0.5746        \u001b[35m0.6801\u001b[0m  0.0210\n",
      "     10        \u001b[36m0.6844\u001b[0m       0.5821        \u001b[35m0.6794\u001b[0m  0.0261\n",
      "  epoch    train_loss    valid_acc    valid_loss     dur\n",
      "-------  ------------  -----------  ------------  ------\n",
      "      1        \u001b[36m0.7152\u001b[0m       \u001b[32m0.5000\u001b[0m        \u001b[35m0.7070\u001b[0m  0.0276\n",
      "      2        \u001b[36m0.7145\u001b[0m       0.5000        \u001b[35m0.7037\u001b[0m  0.0242\n",
      "      3        \u001b[36m0.7120\u001b[0m       0.5000        \u001b[35m0.7002\u001b[0m  0.0264\n",
      "      4        0.7125       0.5000        \u001b[35m0.6972\u001b[0m  0.0230\n",
      "      5        \u001b[36m0.6962\u001b[0m       0.5000        \u001b[35m0.6938\u001b[0m  0.0248\n",
      "      6        0.6971       0.5000        \u001b[35m0.6909\u001b[0m  0.0353\n"
     ]
    },
    {
     "name": "stderr",
     "output_type": "stream",
     "text": [
      "<ipython-input-4-467d7b16a0d1>:27: UserWarning: Implicit dimension choice for softmax has been deprecated. Change the call to include dim=X as an argument.\n",
      "  X = F.softmax(self.output(X))\n"
     ]
    },
    {
     "name": "stdout",
     "output_type": "stream",
     "text": [
      "      7        \u001b[36m0.6895\u001b[0m       0.5000        \u001b[35m0.6881\u001b[0m  0.0224\n",
      "      8        0.6917       0.5000        \u001b[35m0.6859\u001b[0m  0.0288\n",
      "      9        \u001b[36m0.6849\u001b[0m       0.4925        \u001b[35m0.6841\u001b[0m  0.0281\n",
      "     10        \u001b[36m0.6830\u001b[0m       0.4925        \u001b[35m0.6822\u001b[0m  0.0240\n",
      "  epoch    train_loss    valid_acc    valid_loss     dur\n",
      "-------  ------------  -----------  ------------  ------\n",
      "      1        \u001b[36m0.7070\u001b[0m       \u001b[32m0.5373\u001b[0m        \u001b[35m0.7086\u001b[0m  0.0249\n",
      "      2        0.7193       \u001b[32m0.5746\u001b[0m        \u001b[35m0.7056\u001b[0m  0.0251\n",
      "      3        0.7157       0.5522        \u001b[35m0.7026\u001b[0m  0.0181\n",
      "      4        0.7130       0.5522        \u001b[35m0.7017\u001b[0m  0.0275\n",
      "      5        \u001b[36m0.7047\u001b[0m       0.5597        \u001b[35m0.7001\u001b[0m  0.0194\n",
      "      6        0.7095       0.5373        \u001b[35m0.6982\u001b[0m  0.0272\n",
      "      7        \u001b[36m0.7040\u001b[0m       0.5373        \u001b[35m0.6965\u001b[0m  0.0206\n",
      "      8        \u001b[36m0.7006\u001b[0m       0.5373        \u001b[35m0.6952\u001b[0m  0.0172\n"
     ]
    },
    {
     "name": "stderr",
     "output_type": "stream",
     "text": [
      "<ipython-input-4-467d7b16a0d1>:27: UserWarning: Implicit dimension choice for softmax has been deprecated. Change the call to include dim=X as an argument.\n",
      "  X = F.softmax(self.output(X))\n"
     ]
    },
    {
     "name": "stdout",
     "output_type": "stream",
     "text": [
      "      9        \u001b[36m0.6967\u001b[0m       0.5448        \u001b[35m0.6942\u001b[0m  0.0274\n",
      "     10        0.7064       0.5373        \u001b[35m0.6926\u001b[0m  0.0234\n",
      "     11        0.7001       0.5522        \u001b[35m0.6917\u001b[0m  0.0212\n",
      "     12        0.6980       0.5522        \u001b[35m0.6909\u001b[0m  0.0176\n",
      "     13        \u001b[36m0.6939\u001b[0m       0.5522        \u001b[35m0.6903\u001b[0m  0.0178\n",
      "     14        \u001b[36m0.6896\u001b[0m       0.5522        \u001b[35m0.6895\u001b[0m  0.0216\n",
      "     15        0.7024       0.5522        \u001b[35m0.6889\u001b[0m  0.0197\n",
      "     16        0.6961       0.5522        \u001b[35m0.6885\u001b[0m  0.0155\n",
      "     17        0.6945       0.5522        \u001b[35m0.6880\u001b[0m  0.0177\n",
      "     18        0.6968       0.5299        \u001b[35m0.6873\u001b[0m  0.0243\n",
      "     19        \u001b[36m0.6827\u001b[0m       0.5299        \u001b[35m0.6867\u001b[0m  0.0205\n",
      "     20        0.7008       0.5448        \u001b[35m0.6863\u001b[0m  0.0203\n",
      "  epoch    train_loss    valid_acc    valid_loss     dur\n",
      "-------  ------------  -----------  ------------  ------\n",
      "      1        \u001b[36m0.7167\u001b[0m       \u001b[32m0.4925\u001b[0m        \u001b[35m0.7108\u001b[0m  0.0254\n",
      "      2        \u001b[36m0.7071\u001b[0m       0.4925        \u001b[35m0.7087\u001b[0m  0.0174\n",
      "      3        0.7181       0.4925        \u001b[35m0.7067\u001b[0m  0.0224\n",
      "      4        \u001b[36m0.7066\u001b[0m       0.4851        \u001b[35m0.7052\u001b[0m  0.0218\n",
      "      5        0.7071       0.4851        \u001b[35m0.7042\u001b[0m  0.0216\n",
      "      6        \u001b[36m0.7040\u001b[0m       0.4851        \u001b[35m0.7027\u001b[0m  0.0221\n",
      "      7        0.7062       0.4851        \u001b[35m0.7019\u001b[0m  0.0198\n",
      "      8        \u001b[36m0.6983\u001b[0m       \u001b[32m0.5000\u001b[0m        \u001b[35m0.7008\u001b[0m  0.0222\n"
     ]
    },
    {
     "name": "stderr",
     "output_type": "stream",
     "text": [
      "<ipython-input-4-467d7b16a0d1>:27: UserWarning: Implicit dimension choice for softmax has been deprecated. Change the call to include dim=X as an argument.\n",
      "  X = F.softmax(self.output(X))\n"
     ]
    },
    {
     "name": "stdout",
     "output_type": "stream",
     "text": [
      "      9        0.7025       \u001b[32m0.5075\u001b[0m        \u001b[35m0.6997\u001b[0m  0.0234\n",
      "     10        \u001b[36m0.6934\u001b[0m       \u001b[32m0.5224\u001b[0m        \u001b[35m0.6992\u001b[0m  0.0283\n",
      "     11        0.6953       0.5149        \u001b[35m0.6983\u001b[0m  0.0258\n",
      "     12        0.6951       \u001b[32m0.5299\u001b[0m        \u001b[35m0.6976\u001b[0m  0.0214\n",
      "     13        \u001b[36m0.6925\u001b[0m       \u001b[32m0.5373\u001b[0m        \u001b[35m0.6971\u001b[0m  0.0164\n",
      "     14        0.6939       \u001b[32m0.5448\u001b[0m        \u001b[35m0.6964\u001b[0m  0.0250\n",
      "     15        0.6962       \u001b[32m0.5522\u001b[0m        \u001b[35m0.6958\u001b[0m  0.0232\n",
      "     16        0.6954       0.5299        \u001b[35m0.6952\u001b[0m  0.0208\n",
      "     17        \u001b[36m0.6914\u001b[0m       0.5149        \u001b[35m0.6946\u001b[0m  0.0206\n",
      "     18        \u001b[36m0.6874\u001b[0m       0.5149        \u001b[35m0.6938\u001b[0m  0.0283\n",
      "     19        \u001b[36m0.6866\u001b[0m       0.5299        \u001b[35m0.6934\u001b[0m  0.0167\n",
      "     20        \u001b[36m0.6847\u001b[0m       0.5448        \u001b[35m0.6927\u001b[0m  0.0179\n",
      "  epoch    train_loss    valid_acc    valid_loss     dur\n",
      "-------  ------------  -----------  ------------  ------\n",
      "      1        \u001b[36m0.6814\u001b[0m       \u001b[32m0.5896\u001b[0m        \u001b[35m0.6818\u001b[0m  0.0189\n",
      "      2        \u001b[36m0.6770\u001b[0m       0.5896        \u001b[35m0.6791\u001b[0m  0.0222\n",
      "      3        0.6793       0.5896        \u001b[35m0.6769\u001b[0m  0.0242\n",
      "      4        0.6821       0.5821        \u001b[35m0.6756\u001b[0m  0.0201\n",
      "      5        0.6825       \u001b[32m0.5970\u001b[0m        \u001b[35m0.6742\u001b[0m  0.0158\n",
      "      6        \u001b[36m0.6757\u001b[0m       0.5821        \u001b[35m0.6725\u001b[0m  0.0259\n",
      "      7        \u001b[36m0.6679\u001b[0m       0.5896        \u001b[35m0.6711\u001b[0m  0.0226\n",
      "      8        0.6726       0.5970        \u001b[35m0.6695\u001b[0m  0.0207\n"
     ]
    },
    {
     "name": "stderr",
     "output_type": "stream",
     "text": [
      "<ipython-input-4-467d7b16a0d1>:27: UserWarning: Implicit dimension choice for softmax has been deprecated. Change the call to include dim=X as an argument.\n",
      "  X = F.softmax(self.output(X))\n"
     ]
    },
    {
     "name": "stdout",
     "output_type": "stream",
     "text": [
      "      9        0.6701       0.5970        \u001b[35m0.6681\u001b[0m  0.0252\n",
      "     10        \u001b[36m0.6631\u001b[0m       \u001b[32m0.6045\u001b[0m        \u001b[35m0.6666\u001b[0m  0.0213\n",
      "     11        \u001b[36m0.6614\u001b[0m       0.6045        \u001b[35m0.6654\u001b[0m  0.0208\n",
      "     12        0.6636       \u001b[32m0.6119\u001b[0m        \u001b[35m0.6650\u001b[0m  0.0296\n",
      "     13        0.6730       0.6119        \u001b[35m0.6641\u001b[0m  0.0214\n",
      "     14        0.6622       0.6119        \u001b[35m0.6629\u001b[0m  0.0265\n",
      "     15        \u001b[36m0.6592\u001b[0m       0.6119        \u001b[35m0.6618\u001b[0m  0.0182\n",
      "     16        0.6620       \u001b[32m0.6194\u001b[0m        \u001b[35m0.6612\u001b[0m  0.0170\n",
      "     17        \u001b[36m0.6502\u001b[0m       0.6119        \u001b[35m0.6602\u001b[0m  0.0221\n",
      "     18        0.6557       0.6194        \u001b[35m0.6597\u001b[0m  0.0220\n",
      "     19        0.6531       \u001b[32m0.6269\u001b[0m        \u001b[35m0.6593\u001b[0m  0.0264\n",
      "     20        0.6583       0.6269        \u001b[35m0.6587\u001b[0m  0.0218\n",
      "  epoch    train_loss    valid_acc    valid_loss     dur\n",
      "-------  ------------  -----------  ------------  ------\n",
      "      1        \u001b[36m0.6935\u001b[0m       \u001b[32m0.5075\u001b[0m        \u001b[35m0.6962\u001b[0m  0.0253\n",
      "      2        \u001b[36m0.6890\u001b[0m       0.5075        \u001b[35m0.6936\u001b[0m  0.0267\n",
      "      3        \u001b[36m0.6790\u001b[0m       \u001b[32m0.5299\u001b[0m        \u001b[35m0.6907\u001b[0m  0.0235\n",
      "      4        0.6894       \u001b[32m0.5373\u001b[0m        \u001b[35m0.6876\u001b[0m  0.0214\n",
      "      5        \u001b[36m0.6679\u001b[0m       0.5299        \u001b[35m0.6845\u001b[0m  0.0234\n",
      "      6        0.6768       \u001b[32m0.5522\u001b[0m        \u001b[35m0.6827\u001b[0m  0.0228\n",
      "      7        0.6688       0.5448        \u001b[35m0.6818\u001b[0m  0.0165\n"
     ]
    },
    {
     "name": "stderr",
     "output_type": "stream",
     "text": [
      "<ipython-input-4-467d7b16a0d1>:27: UserWarning: Implicit dimension choice for softmax has been deprecated. Change the call to include dim=X as an argument.\n",
      "  X = F.softmax(self.output(X))\n"
     ]
    },
    {
     "name": "stdout",
     "output_type": "stream",
     "text": [
      "      8        \u001b[36m0.6620\u001b[0m       \u001b[32m0.5597\u001b[0m        \u001b[35m0.6801\u001b[0m  0.0259\n",
      "      9        0.6663       0.5597        \u001b[35m0.6784\u001b[0m  0.0172\n",
      "     10        0.6661       0.5597        \u001b[35m0.6768\u001b[0m  0.0210\n",
      "     11        0.6643       \u001b[32m0.5821\u001b[0m        \u001b[35m0.6752\u001b[0m  0.0232\n",
      "     12        0.6696       0.5821        \u001b[35m0.6728\u001b[0m  0.0226\n",
      "     13        \u001b[36m0.6576\u001b[0m       0.5821        \u001b[35m0.6704\u001b[0m  0.0272\n",
      "     14        \u001b[36m0.6520\u001b[0m       0.5746        \u001b[35m0.6680\u001b[0m  0.0223\n",
      "     15        0.6589       \u001b[32m0.6045\u001b[0m        \u001b[35m0.6657\u001b[0m  0.0198\n",
      "     16        0.6522       0.6045        \u001b[35m0.6645\u001b[0m  0.0205\n",
      "     17        \u001b[36m0.6435\u001b[0m       0.5970        \u001b[35m0.6627\u001b[0m  0.0240\n",
      "     18        \u001b[36m0.6413\u001b[0m       \u001b[32m0.6119\u001b[0m        \u001b[35m0.6608\u001b[0m  0.0191\n",
      "     19        0.6415       0.6045        \u001b[35m0.6593\u001b[0m  0.0183\n",
      "     20        \u001b[36m0.6369\u001b[0m       \u001b[32m0.6194\u001b[0m        \u001b[35m0.6575\u001b[0m  0.0162\n",
      "  epoch    train_loss    valid_acc    valid_loss     dur\n",
      "-------  ------------  -----------  ------------  ------\n",
      "      1        \u001b[36m0.7021\u001b[0m       \u001b[32m0.5000\u001b[0m        \u001b[35m0.6998\u001b[0m  0.0191\n",
      "      2        0.7036       0.5000        \u001b[35m0.6983\u001b[0m  0.0183\n",
      "      3        \u001b[36m0.6921\u001b[0m       0.5000        \u001b[35m0.6964\u001b[0m  0.0293\n",
      "      4        \u001b[36m0.6902\u001b[0m       0.5000        \u001b[35m0.6951\u001b[0m  0.0185\n",
      "      5        0.6926       0.5000        \u001b[35m0.6939\u001b[0m  0.0272\n",
      "      6        \u001b[36m0.6884\u001b[0m       0.5000        \u001b[35m0.6920\u001b[0m  0.0199\n",
      "      7        0.6921       0.5000        \u001b[35m0.6907\u001b[0m  0.0295\n"
     ]
    },
    {
     "name": "stderr",
     "output_type": "stream",
     "text": [
      "<ipython-input-4-467d7b16a0d1>:27: UserWarning: Implicit dimension choice for softmax has been deprecated. Change the call to include dim=X as an argument.\n",
      "  X = F.softmax(self.output(X))\n"
     ]
    },
    {
     "name": "stdout",
     "output_type": "stream",
     "text": [
      "      8        \u001b[36m0.6757\u001b[0m       0.5000        \u001b[35m0.6893\u001b[0m  0.0290\n",
      "      9        0.6893       0.5000        \u001b[35m0.6880\u001b[0m  0.0266\n",
      "     10        0.6915       0.5000        \u001b[35m0.6873\u001b[0m  0.0223\n",
      "     11        0.6898       0.5000        \u001b[35m0.6861\u001b[0m  0.0229\n",
      "     12        0.6859       0.5000        \u001b[35m0.6852\u001b[0m  0.0205\n",
      "     13        0.6855       0.5000        \u001b[35m0.6844\u001b[0m  0.0226\n",
      "     14        0.6762       0.5000        \u001b[35m0.6834\u001b[0m  0.0180\n",
      "     15        \u001b[36m0.6716\u001b[0m       0.5000        \u001b[35m0.6824\u001b[0m  0.0267\n",
      "     16        0.6800       0.5000        \u001b[35m0.6817\u001b[0m  0.0176\n",
      "     17        0.6763       0.5000        \u001b[35m0.6810\u001b[0m  0.0232\n",
      "     18        0.6755       0.5000        \u001b[35m0.6799\u001b[0m  0.0247\n",
      "     19        \u001b[36m0.6708\u001b[0m       0.5000        \u001b[35m0.6791\u001b[0m  0.0204\n",
      "     20        0.6737       \u001b[32m0.5075\u001b[0m        \u001b[35m0.6781\u001b[0m  0.0170\n",
      "  epoch    train_loss    valid_acc    valid_loss     dur\n",
      "-------  ------------  -----------  ------------  ------\n",
      "      1        \u001b[36m0.6966\u001b[0m       \u001b[32m0.4925\u001b[0m        \u001b[35m0.6868\u001b[0m  0.0185\n",
      "      2        0.7005       0.4851        \u001b[35m0.6857\u001b[0m  0.0170\n",
      "      3        \u001b[36m0.6839\u001b[0m       \u001b[32m0.5224\u001b[0m        \u001b[35m0.6848\u001b[0m  0.0170\n",
      "      4        0.6894       \u001b[32m0.5448\u001b[0m        \u001b[35m0.6842\u001b[0m  0.0155\n",
      "      5        0.6851       \u001b[32m0.5597\u001b[0m        \u001b[35m0.6833\u001b[0m  0.0204\n",
      "      6        \u001b[36m0.6800\u001b[0m       \u001b[32m0.5672\u001b[0m        \u001b[35m0.6826\u001b[0m  0.0197\n",
      "      7        0.6906       \u001b[32m0.5896\u001b[0m        \u001b[35m0.6818\u001b[0m  0.0167\n",
      "      8        0.6838       \u001b[32m0.6194\u001b[0m        \u001b[35m0.6814\u001b[0m  0.0245\n",
      "      9        0.6811       0.6194        \u001b[35m0.6807\u001b[0m  0.0228\n"
     ]
    },
    {
     "name": "stderr",
     "output_type": "stream",
     "text": [
      "<ipython-input-4-467d7b16a0d1>:27: UserWarning: Implicit dimension choice for softmax has been deprecated. Change the call to include dim=X as an argument.\n",
      "  X = F.softmax(self.output(X))\n"
     ]
    },
    {
     "name": "stdout",
     "output_type": "stream",
     "text": [
      "     10        \u001b[36m0.6774\u001b[0m       \u001b[32m0.6269\u001b[0m        \u001b[35m0.6803\u001b[0m  0.0220\n",
      "     11        \u001b[36m0.6743\u001b[0m       0.6119        \u001b[35m0.6800\u001b[0m  0.0234\n",
      "     12        0.6812       0.6269        \u001b[35m0.6795\u001b[0m  0.0207\n",
      "     13        \u001b[36m0.6725\u001b[0m       0.6269        \u001b[35m0.6790\u001b[0m  0.0222\n",
      "     14        0.6761       0.6194        \u001b[35m0.6785\u001b[0m  0.0244\n",
      "     15        0.6764       0.6045        \u001b[35m0.6780\u001b[0m  0.0227\n",
      "     16        \u001b[36m0.6692\u001b[0m       0.6045        \u001b[35m0.6777\u001b[0m  0.0266\n",
      "     17        \u001b[36m0.6670\u001b[0m       0.5970        \u001b[35m0.6772\u001b[0m  0.0210\n",
      "     18        0.6685       0.6045        \u001b[35m0.6767\u001b[0m  0.0276\n",
      "     19        0.6678       0.6119        \u001b[35m0.6763\u001b[0m  0.0257\n",
      "     20        0.6753       0.6045        \u001b[35m0.6759\u001b[0m  0.0241\n",
      "  epoch    train_loss    valid_acc    valid_loss     dur\n",
      "-------  ------------  -----------  ------------  ------\n",
      "      1        \u001b[36m0.7581\u001b[0m       \u001b[32m0.3806\u001b[0m        \u001b[35m0.7342\u001b[0m  0.0237\n",
      "      2        \u001b[36m0.7437\u001b[0m       \u001b[32m0.4179\u001b[0m        \u001b[35m0.7186\u001b[0m  0.0192\n",
      "      3        \u001b[36m0.7175\u001b[0m       \u001b[32m0.4254\u001b[0m        \u001b[35m0.7106\u001b[0m  0.0214\n",
      "      4        \u001b[36m0.7079\u001b[0m       \u001b[32m0.4328\u001b[0m        \u001b[35m0.7043\u001b[0m  0.0193\n",
      "      5        0.7117       \u001b[32m0.4552\u001b[0m        \u001b[35m0.6968\u001b[0m  0.0246\n",
      "      6        \u001b[36m0.7033\u001b[0m       \u001b[32m0.4851\u001b[0m        \u001b[35m0.6913\u001b[0m  0.0215\n",
      "      7        \u001b[36m0.6997\u001b[0m       \u001b[32m0.5000\u001b[0m        \u001b[35m0.6871\u001b[0m  0.0297\n",
      "      8        \u001b[36m0.6869\u001b[0m       \u001b[32m0.5149\u001b[0m        \u001b[35m0.6826\u001b[0m  0.0210\n"
     ]
    },
    {
     "name": "stderr",
     "output_type": "stream",
     "text": [
      "<ipython-input-4-467d7b16a0d1>:27: UserWarning: Implicit dimension choice for softmax has been deprecated. Change the call to include dim=X as an argument.\n",
      "  X = F.softmax(self.output(X))\n"
     ]
    },
    {
     "name": "stdout",
     "output_type": "stream",
     "text": [
      "      9        0.6971       \u001b[32m0.5224\u001b[0m        \u001b[35m0.6794\u001b[0m  0.0196\n",
      "     10        \u001b[36m0.6834\u001b[0m       0.5224        \u001b[35m0.6752\u001b[0m  0.0227\n",
      "  epoch    train_loss    valid_acc    valid_loss     dur\n",
      "-------  ------------  -----------  ------------  ------\n",
      "      1        \u001b[36m0.7006\u001b[0m       \u001b[32m0.5821\u001b[0m        \u001b[35m0.6885\u001b[0m  0.0148\n",
      "      2        \u001b[36m0.6976\u001b[0m       0.5821        \u001b[35m0.6867\u001b[0m  0.0243\n",
      "      3        \u001b[36m0.6927\u001b[0m       \u001b[32m0.5896\u001b[0m        \u001b[35m0.6846\u001b[0m  0.0239\n",
      "      4        \u001b[36m0.6875\u001b[0m       \u001b[32m0.6045\u001b[0m        \u001b[35m0.6831\u001b[0m  0.0191\n",
      "      5        0.6885       0.6045        \u001b[35m0.6819\u001b[0m  0.0270\n",
      "      6        0.6923       0.6045        \u001b[35m0.6808\u001b[0m  0.0220\n",
      "      7        \u001b[36m0.6836\u001b[0m       0.5821        \u001b[35m0.6792\u001b[0m  0.0279\n"
     ]
    },
    {
     "name": "stderr",
     "output_type": "stream",
     "text": [
      "<ipython-input-4-467d7b16a0d1>:27: UserWarning: Implicit dimension choice for softmax has been deprecated. Change the call to include dim=X as an argument.\n",
      "  X = F.softmax(self.output(X))\n"
     ]
    },
    {
     "name": "stdout",
     "output_type": "stream",
     "text": [
      "      8        \u001b[36m0.6738\u001b[0m       0.5821        \u001b[35m0.6771\u001b[0m  0.0282\n",
      "      9        \u001b[36m0.6732\u001b[0m       0.5896        \u001b[35m0.6762\u001b[0m  0.0195\n",
      "     10        0.6830       0.5896        \u001b[35m0.6749\u001b[0m  0.0242\n",
      "  epoch    train_loss    valid_acc    valid_loss     dur\n",
      "-------  ------------  -----------  ------------  ------\n",
      "      1        \u001b[36m0.6918\u001b[0m       \u001b[32m0.5597\u001b[0m        \u001b[35m0.6830\u001b[0m  0.0211\n",
      "      2        \u001b[36m0.6890\u001b[0m       \u001b[32m0.5746\u001b[0m        \u001b[35m0.6817\u001b[0m  0.0267\n",
      "      3        \u001b[36m0.6888\u001b[0m       0.5746        \u001b[35m0.6810\u001b[0m  0.0175\n",
      "      4        \u001b[36m0.6861\u001b[0m       \u001b[32m0.5821\u001b[0m        \u001b[35m0.6801\u001b[0m  0.0228\n",
      "      5        \u001b[36m0.6756\u001b[0m       \u001b[32m0.6119\u001b[0m        \u001b[35m0.6792\u001b[0m  0.0479\n",
      "      6        0.6823       0.5970        \u001b[35m0.6782\u001b[0m  0.0240\n",
      "      7        \u001b[36m0.6755\u001b[0m       \u001b[32m0.6343\u001b[0m        \u001b[35m0.6778\u001b[0m  0.0184\n"
     ]
    },
    {
     "name": "stderr",
     "output_type": "stream",
     "text": [
      "<ipython-input-4-467d7b16a0d1>:27: UserWarning: Implicit dimension choice for softmax has been deprecated. Change the call to include dim=X as an argument.\n",
      "  X = F.softmax(self.output(X))\n"
     ]
    },
    {
     "name": "stdout",
     "output_type": "stream",
     "text": [
      "      8        0.6761       0.6045        \u001b[35m0.6774\u001b[0m  0.0254\n",
      "      9        0.6755       \u001b[32m0.6493\u001b[0m        \u001b[35m0.6768\u001b[0m  0.0163\n",
      "     10        \u001b[36m0.6748\u001b[0m       0.6493        \u001b[35m0.6756\u001b[0m  0.0197\n",
      "  epoch    train_loss    valid_acc    valid_loss     dur\n",
      "-------  ------------  -----------  ------------  ------\n",
      "      1        \u001b[36m0.6955\u001b[0m       \u001b[32m0.5821\u001b[0m        \u001b[35m0.6840\u001b[0m  0.0127\n",
      "      2        \u001b[36m0.6921\u001b[0m       0.5821        \u001b[35m0.6809\u001b[0m  0.0217\n",
      "      3        \u001b[36m0.6773\u001b[0m       \u001b[32m0.5970\u001b[0m        \u001b[35m0.6788\u001b[0m  0.0203\n",
      "      4        0.6832       0.5970        \u001b[35m0.6756\u001b[0m  0.0223\n",
      "      5        0.6778       \u001b[32m0.6045\u001b[0m        \u001b[35m0.6734\u001b[0m  0.0196\n",
      "      6        \u001b[36m0.6734\u001b[0m       \u001b[32m0.6269\u001b[0m        \u001b[35m0.6701\u001b[0m  0.0161\n",
      "      7        0.6768       \u001b[32m0.6418\u001b[0m        \u001b[35m0.6668\u001b[0m  0.0222\n",
      "      8        \u001b[36m0.6714\u001b[0m       \u001b[32m0.6567\u001b[0m        \u001b[35m0.6627\u001b[0m  0.0215\n"
     ]
    },
    {
     "name": "stderr",
     "output_type": "stream",
     "text": [
      "<ipython-input-4-467d7b16a0d1>:27: UserWarning: Implicit dimension choice for softmax has been deprecated. Change the call to include dim=X as an argument.\n",
      "  X = F.softmax(self.output(X))\n"
     ]
    },
    {
     "name": "stdout",
     "output_type": "stream",
     "text": [
      "      9        \u001b[36m0.6568\u001b[0m       \u001b[32m0.6642\u001b[0m        \u001b[35m0.6596\u001b[0m  0.0278\n",
      "     10        0.6631       \u001b[32m0.6716\u001b[0m        \u001b[35m0.6574\u001b[0m  0.0251\n",
      "  epoch    train_loss    valid_acc    valid_loss     dur\n",
      "-------  ------------  -----------  ------------  ------\n",
      "      1        \u001b[36m0.6919\u001b[0m       \u001b[32m0.6119\u001b[0m        \u001b[35m0.7003\u001b[0m  0.0209\n",
      "      2        \u001b[36m0.6905\u001b[0m       \u001b[32m0.6343\u001b[0m        \u001b[35m0.6979\u001b[0m  0.0208\n",
      "      3        \u001b[36m0.6903\u001b[0m       0.6343        \u001b[35m0.6957\u001b[0m  0.0239\n",
      "      4        \u001b[36m0.6897\u001b[0m       \u001b[32m0.6418\u001b[0m        \u001b[35m0.6938\u001b[0m  0.0241\n",
      "      5        \u001b[36m0.6833\u001b[0m       0.6418        \u001b[35m0.6924\u001b[0m  0.0204\n",
      "      6        \u001b[36m0.6768\u001b[0m       0.6418        \u001b[35m0.6915\u001b[0m  0.0154\n",
      "      7        0.6855       \u001b[32m0.6493\u001b[0m        \u001b[35m0.6902\u001b[0m  0.0238\n",
      "      8        0.6846       0.6343        \u001b[35m0.6888\u001b[0m  0.0179\n"
     ]
    },
    {
     "name": "stderr",
     "output_type": "stream",
     "text": [
      "<ipython-input-4-467d7b16a0d1>:27: UserWarning: Implicit dimension choice for softmax has been deprecated. Change the call to include dim=X as an argument.\n",
      "  X = F.softmax(self.output(X))\n"
     ]
    },
    {
     "name": "stdout",
     "output_type": "stream",
     "text": [
      "      9        \u001b[36m0.6766\u001b[0m       0.6418        \u001b[35m0.6876\u001b[0m  0.0214\n",
      "     10        0.6770       0.6418        \u001b[35m0.6862\u001b[0m  0.0187\n",
      "  epoch    train_loss    valid_acc    valid_loss     dur\n",
      "-------  ------------  -----------  ------------  ------\n",
      "      1        \u001b[36m0.7033\u001b[0m       \u001b[32m0.5821\u001b[0m        \u001b[35m0.6756\u001b[0m  0.0210\n",
      "      2        \u001b[36m0.6913\u001b[0m       \u001b[32m0.5896\u001b[0m        \u001b[35m0.6745\u001b[0m  0.0168\n",
      "      3        \u001b[36m0.6855\u001b[0m       0.5896        \u001b[35m0.6730\u001b[0m  0.0200\n",
      "      4        \u001b[36m0.6782\u001b[0m       \u001b[32m0.6045\u001b[0m        \u001b[35m0.6717\u001b[0m  0.0222\n",
      "      5        0.6817       0.6045        \u001b[35m0.6706\u001b[0m  0.0243\n",
      "      6        0.6796       \u001b[32m0.6194\u001b[0m        \u001b[35m0.6689\u001b[0m  0.0228\n",
      "      7        0.6827       \u001b[32m0.6343\u001b[0m        \u001b[35m0.6677\u001b[0m  0.0178\n",
      "      8        0.6838       0.6269        \u001b[35m0.6660\u001b[0m  0.0235\n"
     ]
    },
    {
     "name": "stderr",
     "output_type": "stream",
     "text": [
      "<ipython-input-4-467d7b16a0d1>:27: UserWarning: Implicit dimension choice for softmax has been deprecated. Change the call to include dim=X as an argument.\n",
      "  X = F.softmax(self.output(X))\n"
     ]
    },
    {
     "name": "stdout",
     "output_type": "stream",
     "text": [
      "      9        \u001b[36m0.6778\u001b[0m       \u001b[32m0.6418\u001b[0m        \u001b[35m0.6645\u001b[0m  0.0253\n",
      "     10        \u001b[36m0.6717\u001b[0m       \u001b[32m0.6567\u001b[0m        \u001b[35m0.6629\u001b[0m  0.0195\n",
      "  epoch    train_loss    valid_acc    valid_loss     dur\n",
      "-------  ------------  -----------  ------------  ------\n",
      "      1        \u001b[36m0.7183\u001b[0m       \u001b[32m0.4179\u001b[0m        \u001b[35m0.7258\u001b[0m  0.0165\n",
      "      2        0.7233       0.4179        \u001b[35m0.7195\u001b[0m  0.0204\n",
      "      3        \u001b[36m0.7131\u001b[0m       0.4104        \u001b[35m0.7143\u001b[0m  0.0184\n",
      "      4        \u001b[36m0.6996\u001b[0m       0.4179        \u001b[35m0.7108\u001b[0m  0.0180\n",
      "      5        0.7048       \u001b[32m0.4403\u001b[0m        \u001b[35m0.7078\u001b[0m  0.0231\n",
      "      6        \u001b[36m0.6979\u001b[0m       0.4403        \u001b[35m0.7051\u001b[0m  0.0170\n",
      "      7        \u001b[36m0.6907\u001b[0m       \u001b[32m0.4627\u001b[0m        \u001b[35m0.7031\u001b[0m  0.0204\n",
      "      8        0.6979       \u001b[32m0.4851\u001b[0m        \u001b[35m0.7012\u001b[0m  0.0168\n",
      "      9        \u001b[36m0.6811\u001b[0m       \u001b[32m0.5149\u001b[0m        \u001b[35m0.6989\u001b[0m  0.0193\n"
     ]
    },
    {
     "name": "stderr",
     "output_type": "stream",
     "text": [
      "<ipython-input-4-467d7b16a0d1>:27: UserWarning: Implicit dimension choice for softmax has been deprecated. Change the call to include dim=X as an argument.\n",
      "  X = F.softmax(self.output(X))\n"
     ]
    },
    {
     "name": "stdout",
     "output_type": "stream",
     "text": [
      "     10        0.6941       0.5149        \u001b[35m0.6968\u001b[0m  0.0195\n",
      "     11        0.6922       \u001b[32m0.5299\u001b[0m        \u001b[35m0.6951\u001b[0m  0.0223\n",
      "     12        \u001b[36m0.6811\u001b[0m       \u001b[32m0.5746\u001b[0m        \u001b[35m0.6931\u001b[0m  0.0162\n",
      "     13        0.6874       \u001b[32m0.5821\u001b[0m        \u001b[35m0.6911\u001b[0m  0.0212\n",
      "     14        \u001b[36m0.6775\u001b[0m       0.5746        \u001b[35m0.6899\u001b[0m  0.0220\n",
      "     15        0.6784       \u001b[32m0.5896\u001b[0m        \u001b[35m0.6881\u001b[0m  0.0206\n",
      "     16        \u001b[36m0.6737\u001b[0m       0.5821        \u001b[35m0.6862\u001b[0m  0.0156\n",
      "     17        0.6810       0.5672        \u001b[35m0.6843\u001b[0m  0.0194\n",
      "     18        \u001b[36m0.6712\u001b[0m       0.5672        \u001b[35m0.6830\u001b[0m  0.0203\n",
      "     19        0.6739       0.5746        \u001b[35m0.6812\u001b[0m  0.0227\n",
      "     20        0.6751       0.5597        \u001b[35m0.6797\u001b[0m  0.0205\n",
      "  epoch    train_loss    valid_acc    valid_loss     dur\n",
      "-------  ------------  -----------  ------------  ------\n",
      "      1        \u001b[36m0.6873\u001b[0m       \u001b[32m0.6343\u001b[0m        \u001b[35m0.6672\u001b[0m  0.0152\n",
      "      2        \u001b[36m0.6844\u001b[0m       0.6269        \u001b[35m0.6658\u001b[0m  0.0168\n",
      "      3        \u001b[36m0.6766\u001b[0m       0.6269        \u001b[35m0.6638\u001b[0m  0.0226\n",
      "      4        \u001b[36m0.6737\u001b[0m       0.6343        \u001b[35m0.6625\u001b[0m  0.0188\n",
      "      5        0.6804       0.6269        \u001b[35m0.6612\u001b[0m  0.0212\n",
      "      6        0.6781       0.6269        \u001b[35m0.6599\u001b[0m  0.0154\n",
      "      7        \u001b[36m0.6717\u001b[0m       0.6343        \u001b[35m0.6592\u001b[0m  0.0280\n",
      "      8        0.6745       0.6269        \u001b[35m0.6575\u001b[0m  0.0191\n",
      "      9        \u001b[36m0.6655\u001b[0m       0.6343        \u001b[35m0.6560\u001b[0m  0.0162\n"
     ]
    },
    {
     "name": "stderr",
     "output_type": "stream",
     "text": [
      "<ipython-input-4-467d7b16a0d1>:27: UserWarning: Implicit dimension choice for softmax has been deprecated. Change the call to include dim=X as an argument.\n",
      "  X = F.softmax(self.output(X))\n"
     ]
    },
    {
     "name": "stdout",
     "output_type": "stream",
     "text": [
      "     10        \u001b[36m0.6600\u001b[0m       0.6343        \u001b[35m0.6545\u001b[0m  0.0256\n",
      "     11        0.6663       0.6269        \u001b[35m0.6533\u001b[0m  0.0157\n",
      "     12        0.6631       0.6343        \u001b[35m0.6532\u001b[0m  0.0194\n",
      "     13        0.6603       0.6269        \u001b[35m0.6518\u001b[0m  0.0225\n",
      "     14        0.6607       0.6269        \u001b[35m0.6511\u001b[0m  0.0139\n",
      "     15        \u001b[36m0.6564\u001b[0m       0.6269        \u001b[35m0.6497\u001b[0m  0.0176\n",
      "     16        0.6594       0.6343        \u001b[35m0.6485\u001b[0m  0.0164\n",
      "     17        0.6615       \u001b[32m0.6418\u001b[0m        \u001b[35m0.6471\u001b[0m  0.0192\n",
      "     18        \u001b[36m0.6546\u001b[0m       0.6343        \u001b[35m0.6467\u001b[0m  0.0178\n",
      "     19        \u001b[36m0.6504\u001b[0m       0.6343        \u001b[35m0.6454\u001b[0m  0.0169\n",
      "     20        \u001b[36m0.6495\u001b[0m       0.6343        \u001b[35m0.6437\u001b[0m  0.0192\n",
      "  epoch    train_loss    valid_acc    valid_loss     dur\n",
      "-------  ------------  -----------  ------------  ------\n",
      "      1        \u001b[36m0.7136\u001b[0m       \u001b[32m0.5149\u001b[0m        \u001b[35m0.7052\u001b[0m  0.0150\n",
      "      2        \u001b[36m0.7037\u001b[0m       \u001b[32m0.5299\u001b[0m        \u001b[35m0.7031\u001b[0m  0.0259\n",
      "      3        \u001b[36m0.7030\u001b[0m       0.5299        \u001b[35m0.7018\u001b[0m  0.0214\n",
      "      4        \u001b[36m0.6976\u001b[0m       \u001b[32m0.5448\u001b[0m        \u001b[35m0.7009\u001b[0m  0.0215\n",
      "      5        0.7001       0.5448        \u001b[35m0.6997\u001b[0m  0.0205\n",
      "      6        \u001b[36m0.6933\u001b[0m       0.5000        \u001b[35m0.6988\u001b[0m  0.0188\n",
      "      7        0.7000       0.5075        \u001b[35m0.6975\u001b[0m  0.0206\n",
      "      8        0.6944       0.4925        \u001b[35m0.6959\u001b[0m  0.0329\n"
     ]
    },
    {
     "name": "stderr",
     "output_type": "stream",
     "text": [
      "<ipython-input-4-467d7b16a0d1>:27: UserWarning: Implicit dimension choice for softmax has been deprecated. Change the call to include dim=X as an argument.\n",
      "  X = F.softmax(self.output(X))\n"
     ]
    },
    {
     "name": "stdout",
     "output_type": "stream",
     "text": [
      "      9        \u001b[36m0.6818\u001b[0m       0.5373        \u001b[35m0.6944\u001b[0m  0.0196\n",
      "     10        \u001b[36m0.6808\u001b[0m       0.5299        \u001b[35m0.6932\u001b[0m  0.0187\n",
      "     11        0.6829       0.5075        \u001b[35m0.6921\u001b[0m  0.0175\n",
      "     12        \u001b[36m0.6754\u001b[0m       0.5149        \u001b[35m0.6912\u001b[0m  0.0192\n",
      "     13        0.6806       0.5299        \u001b[35m0.6905\u001b[0m  0.0203\n",
      "     14        \u001b[36m0.6741\u001b[0m       0.5299        \u001b[35m0.6896\u001b[0m  0.0222\n",
      "     15        \u001b[36m0.6689\u001b[0m       0.5299        \u001b[35m0.6894\u001b[0m  0.0199\n",
      "     16        0.6787       0.5299        \u001b[35m0.6883\u001b[0m  0.0206\n",
      "     17        0.6735       0.5299        \u001b[35m0.6869\u001b[0m  0.0152\n",
      "     18        \u001b[36m0.6669\u001b[0m       0.5373        \u001b[35m0.6857\u001b[0m  0.0208\n",
      "     19        \u001b[36m0.6634\u001b[0m       0.5373        \u001b[35m0.6850\u001b[0m  0.0151\n",
      "     20        0.6738       0.5373        \u001b[35m0.6839\u001b[0m  0.0197\n",
      "  epoch    train_loss    valid_acc    valid_loss     dur\n",
      "-------  ------------  -----------  ------------  ------\n",
      "      1        \u001b[36m0.7007\u001b[0m       \u001b[32m0.5000\u001b[0m        \u001b[35m0.7011\u001b[0m  0.0154\n",
      "      2        \u001b[36m0.6990\u001b[0m       0.5000        \u001b[35m0.6993\u001b[0m  0.0221\n",
      "      3        \u001b[36m0.6969\u001b[0m       0.5000        \u001b[35m0.6981\u001b[0m  0.0210\n",
      "      4        0.6977       0.5000        \u001b[35m0.6967\u001b[0m  0.0216\n",
      "      5        \u001b[36m0.6909\u001b[0m       0.5000        \u001b[35m0.6944\u001b[0m  0.0155\n",
      "      6        \u001b[36m0.6873\u001b[0m       0.5000        \u001b[35m0.6922\u001b[0m  0.0223\n",
      "      7        0.6895       0.5000        \u001b[35m0.6903\u001b[0m  0.0187\n",
      "      8        \u001b[36m0.6834\u001b[0m       \u001b[32m0.5075\u001b[0m        \u001b[35m0.6880\u001b[0m  0.0162\n",
      "      9        0.6888       0.5075        \u001b[35m0.6866\u001b[0m  0.0233\n"
     ]
    },
    {
     "name": "stderr",
     "output_type": "stream",
     "text": [
      "<ipython-input-4-467d7b16a0d1>:27: UserWarning: Implicit dimension choice for softmax has been deprecated. Change the call to include dim=X as an argument.\n",
      "  X = F.softmax(self.output(X))\n"
     ]
    },
    {
     "name": "stdout",
     "output_type": "stream",
     "text": [
      "     10        0.6857       0.5075        \u001b[35m0.6847\u001b[0m  0.0200\n",
      "     11        \u001b[36m0.6767\u001b[0m       0.5075        \u001b[35m0.6830\u001b[0m  0.0253\n",
      "     12        0.6819       \u001b[32m0.5224\u001b[0m        \u001b[35m0.6815\u001b[0m  0.0153\n",
      "     13        0.6861       \u001b[32m0.5299\u001b[0m        \u001b[35m0.6803\u001b[0m  0.0268\n",
      "     14        0.6801       \u001b[32m0.5821\u001b[0m        \u001b[35m0.6778\u001b[0m  0.0246\n",
      "     15        \u001b[36m0.6759\u001b[0m       0.5821        \u001b[35m0.6757\u001b[0m  0.0167\n",
      "     16        0.6831       0.5821        \u001b[35m0.6740\u001b[0m  0.0182\n",
      "     17        \u001b[36m0.6727\u001b[0m       0.5821        \u001b[35m0.6725\u001b[0m  0.0154\n",
      "     18        0.6749       \u001b[32m0.5896\u001b[0m        \u001b[35m0.6704\u001b[0m  0.0188\n",
      "     19        \u001b[36m0.6718\u001b[0m       0.5896        \u001b[35m0.6687\u001b[0m  0.0239\n",
      "     20        0.6724       \u001b[32m0.5970\u001b[0m        \u001b[35m0.6668\u001b[0m  0.0232\n",
      "  epoch    train_loss    valid_acc    valid_loss     dur\n",
      "-------  ------------  -----------  ------------  ------\n",
      "      1        \u001b[36m0.7003\u001b[0m       \u001b[32m0.4851\u001b[0m        \u001b[35m0.6998\u001b[0m  0.0182\n",
      "      2        \u001b[36m0.6949\u001b[0m       \u001b[32m0.5075\u001b[0m        \u001b[35m0.6977\u001b[0m  0.0192\n",
      "      3        \u001b[36m0.6894\u001b[0m       \u001b[32m0.5224\u001b[0m        \u001b[35m0.6965\u001b[0m  0.0225\n",
      "      4        0.6924       \u001b[32m0.5373\u001b[0m        \u001b[35m0.6952\u001b[0m  0.0241\n",
      "      5        \u001b[36m0.6788\u001b[0m       \u001b[32m0.5448\u001b[0m        \u001b[35m0.6937\u001b[0m  0.0224\n",
      "      6        0.6921       \u001b[32m0.5522\u001b[0m        \u001b[35m0.6916\u001b[0m  0.0240\n",
      "      7        0.6931       \u001b[32m0.5672\u001b[0m        \u001b[35m0.6910\u001b[0m  0.0199\n",
      "      8        \u001b[36m0.6787\u001b[0m       0.5672        \u001b[35m0.6895\u001b[0m  0.0245\n"
     ]
    },
    {
     "name": "stderr",
     "output_type": "stream",
     "text": [
      "<ipython-input-4-467d7b16a0d1>:27: UserWarning: Implicit dimension choice for softmax has been deprecated. Change the call to include dim=X as an argument.\n",
      "  X = F.softmax(self.output(X))\n"
     ]
    },
    {
     "name": "stdout",
     "output_type": "stream",
     "text": [
      "      9        0.6837       0.5597        \u001b[35m0.6880\u001b[0m  0.0170\n",
      "     10        0.6795       0.5672        \u001b[35m0.6864\u001b[0m  0.0226\n",
      "     11        \u001b[36m0.6764\u001b[0m       \u001b[32m0.5896\u001b[0m        \u001b[35m0.6846\u001b[0m  0.0190\n",
      "     12        0.6784       0.5896        \u001b[35m0.6837\u001b[0m  0.0232\n",
      "     13        \u001b[36m0.6736\u001b[0m       0.5896        \u001b[35m0.6825\u001b[0m  0.0210\n",
      "     14        \u001b[36m0.6673\u001b[0m       0.5896        \u001b[35m0.6812\u001b[0m  0.0187\n",
      "     15        \u001b[36m0.6622\u001b[0m       \u001b[32m0.6119\u001b[0m        \u001b[35m0.6796\u001b[0m  0.0226\n",
      "     16        0.6638       \u001b[32m0.6343\u001b[0m        \u001b[35m0.6777\u001b[0m  0.0152\n",
      "     17        0.6644       0.6269        \u001b[35m0.6769\u001b[0m  0.0158\n",
      "     18        0.6635       \u001b[32m0.6493\u001b[0m        \u001b[35m0.6751\u001b[0m  0.0177\n",
      "     19        \u001b[36m0.6594\u001b[0m       \u001b[32m0.6642\u001b[0m        \u001b[35m0.6737\u001b[0m  0.0152\n",
      "     20        \u001b[36m0.6532\u001b[0m       0.6642        \u001b[35m0.6717\u001b[0m  0.0227\n",
      "  epoch    train_loss    valid_acc    valid_loss     dur\n",
      "-------  ------------  -----------  ------------  ------\n",
      "      1        \u001b[36m0.7076\u001b[0m       \u001b[32m0.5000\u001b[0m        \u001b[35m0.7047\u001b[0m  0.0150\n",
      "      2        \u001b[36m0.6998\u001b[0m       0.5000        \u001b[35m0.7036\u001b[0m  0.0209\n",
      "      3        \u001b[36m0.6988\u001b[0m       0.5000        \u001b[35m0.7025\u001b[0m  0.0212\n",
      "      4        \u001b[36m0.6962\u001b[0m       \u001b[32m0.5075\u001b[0m        \u001b[35m0.7012\u001b[0m  0.0194\n",
      "      5        \u001b[36m0.6891\u001b[0m       \u001b[32m0.5149\u001b[0m        \u001b[35m0.7000\u001b[0m  0.0160\n",
      "      6        \u001b[36m0.6862\u001b[0m       0.5075        \u001b[35m0.6990\u001b[0m  0.0167\n",
      "      7        \u001b[36m0.6826\u001b[0m       0.4925        \u001b[35m0.6977\u001b[0m  0.0225\n",
      "      8        \u001b[36m0.6811\u001b[0m       0.4701        \u001b[35m0.6969\u001b[0m  0.0184\n",
      "      9        \u001b[36m0.6789\u001b[0m       0.4701        \u001b[35m0.6961\u001b[0m  0.0261\n"
     ]
    },
    {
     "name": "stderr",
     "output_type": "stream",
     "text": [
      "<ipython-input-4-467d7b16a0d1>:27: UserWarning: Implicit dimension choice for softmax has been deprecated. Change the call to include dim=X as an argument.\n",
      "  X = F.softmax(self.output(X))\n"
     ]
    },
    {
     "name": "stdout",
     "output_type": "stream",
     "text": [
      "     10        0.6801       0.5075        \u001b[35m0.6952\u001b[0m  0.0242\n",
      "     11        0.6804       0.5075        \u001b[35m0.6946\u001b[0m  0.0165\n",
      "     12        \u001b[36m0.6761\u001b[0m       0.5075        \u001b[35m0.6940\u001b[0m  0.0215\n",
      "     13        0.6779       0.5149        \u001b[35m0.6932\u001b[0m  0.0151\n",
      "     14        \u001b[36m0.6695\u001b[0m       \u001b[32m0.5448\u001b[0m        \u001b[35m0.6925\u001b[0m  0.0208\n",
      "     15        0.6747       \u001b[32m0.5672\u001b[0m        \u001b[35m0.6915\u001b[0m  0.0228\n",
      "     16        \u001b[36m0.6692\u001b[0m       0.5522        \u001b[35m0.6908\u001b[0m  0.0216\n",
      "     17        0.6760       0.5448        \u001b[35m0.6897\u001b[0m  0.0222\n",
      "     18        \u001b[36m0.6680\u001b[0m       0.5448        \u001b[35m0.6888\u001b[0m  0.0150\n",
      "     19        0.6689       0.5672        \u001b[35m0.6881\u001b[0m  0.0221\n",
      "     20        \u001b[36m0.6641\u001b[0m       0.5672        \u001b[35m0.6874\u001b[0m  0.0145\n",
      "0.6680392967818117 {'lr': 0.02, 'max_epochs': 10, 'module__num_units': 20}\n"
     ]
    }
   ],
   "source": [
    "from sklearn.model_selection import GridSearchCV\n",
    "params = {\n",
    "    'lr': [0.01, 0.02],\n",
    "    'max_epochs': [10, 20],\n",
    "    'module__num_units': [10, 20],\n",
    "}\n",
    "gs = GridSearchCV(net, params, refit=False, cv=3, scoring='accuracy')\n",
    "\n",
    "gs.fit(X, y)\n",
    "print(gs.best_score_, gs.best_params_)"
   ]
  },
  {
   "cell_type": "code",
   "execution_count": null,
   "metadata": {},
   "outputs": [],
   "source": []
  }
 ],
 "metadata": {
  "kernelspec": {
   "display_name": "Python 3",
   "language": "python",
   "name": "python3"
  }
 },
 "nbformat": 4,
 "nbformat_minor": 2
}
