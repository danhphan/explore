{
 "cells": [
  {
   "cell_type": "code",
   "execution_count": null,
   "metadata": {},
   "outputs": [],
   "source": [
    "# default_exp pymap"
   ]
  },
  {
   "cell_type": "markdown",
   "metadata": {},
   "source": [
    "# Mapping in python\n",
    "\n",
    "> Explore mapping in python"
   ]
  },
  {
   "cell_type": "code",
   "execution_count": null,
   "metadata": {},
   "outputs": [],
   "source": [
    "#hide\n",
    "from nbdev.showdoc import *"
   ]
  },
  {
   "cell_type": "code",
   "execution_count": null,
   "metadata": {},
   "outputs": [],
   "source": [
    "import requests\n",
    "import geopandas as gpd\n",
    "import osmnx"
   ]
  },
  {
   "cell_type": "markdown",
   "metadata": {},
   "source": [
    "### Toronto, Canada"
   ]
  },
  {
   "cell_type": "markdown",
   "metadata": {},
   "source": [
    "##### Get geo data"
   ]
  },
  {
   "cell_type": "code",
   "execution_count": null,
   "metadata": {},
   "outputs": [],
   "source": [
    "# Download and save toronto shape file\n",
    "url = 'http://www.dmg.utoronto.ca/spatial/data/2001_TTS_TRAFFIC_ZONES_shp.zip'\n",
    "with open('./data/2001_TTS_TRAFFIC_ZONES_shp.zip', 'wb') as f:\n",
    "    r = requests.get(url)\n",
    "    f.write(r.content)   "
   ]
  },
  {
   "cell_type": "code",
   "execution_count": null,
   "metadata": {},
   "outputs": [],
   "source": [
    "toronto = gpd.read_file('zip://./data/2001_TTS_TRAFFIC_ZONES_shp.zip')"
   ]
  },
  {
   "cell_type": "code",
   "execution_count": null,
   "metadata": {},
   "outputs": [
    {
     "data": {
      "text/html": [
       "<div>\n",
       "<style scoped>\n",
       "    .dataframe tbody tr th:only-of-type {\n",
       "        vertical-align: middle;\n",
       "    }\n",
       "\n",
       "    .dataframe tbody tr th {\n",
       "        vertical-align: top;\n",
       "    }\n",
       "\n",
       "    .dataframe thead th {\n",
       "        text-align: right;\n",
       "    }\n",
       "</style>\n",
       "<table border=\"1\" class=\"dataframe\">\n",
       "  <thead>\n",
       "    <tr style=\"text-align: right;\">\n",
       "      <th></th>\n",
       "      <th>GTA01</th>\n",
       "      <th>PD</th>\n",
       "      <th>REGION</th>\n",
       "      <th>geometry</th>\n",
       "    </tr>\n",
       "  </thead>\n",
       "  <tbody>\n",
       "    <tr>\n",
       "      <th>0</th>\n",
       "      <td>1</td>\n",
       "      <td>7</td>\n",
       "      <td>1</td>\n",
       "      <td>POLYGON ((617159.627 4827382.920, 617203.149 4...</td>\n",
       "    </tr>\n",
       "    <tr>\n",
       "      <th>1</th>\n",
       "      <td>2</td>\n",
       "      <td>7</td>\n",
       "      <td>1</td>\n",
       "      <td>POLYGON ((616272.177 4828985.354, 616253.920 4...</td>\n",
       "    </tr>\n",
       "    <tr>\n",
       "      <th>2</th>\n",
       "      <td>3</td>\n",
       "      <td>8</td>\n",
       "      <td>1</td>\n",
       "      <td>POLYGON ((616635.381 4831011.931, 616653.770 4...</td>\n",
       "    </tr>\n",
       "    <tr>\n",
       "      <th>3</th>\n",
       "      <td>4</td>\n",
       "      <td>8</td>\n",
       "      <td>1</td>\n",
       "      <td>POLYGON ((618245.176 4832760.935, 618265.362 4...</td>\n",
       "    </tr>\n",
       "    <tr>\n",
       "      <th>4</th>\n",
       "      <td>5</td>\n",
       "      <td>8</td>\n",
       "      <td>1</td>\n",
       "      <td>POLYGON ((617580.388 4830923.360, 617741.347 4...</td>\n",
       "    </tr>\n",
       "  </tbody>\n",
       "</table>\n",
       "</div>"
      ],
      "text/plain": [
       "   GTA01  PD  REGION                                           geometry\n",
       "0      1   7       1  POLYGON ((617159.627 4827382.920, 617203.149 4...\n",
       "1      2   7       1  POLYGON ((616272.177 4828985.354, 616253.920 4...\n",
       "2      3   8       1  POLYGON ((616635.381 4831011.931, 616653.770 4...\n",
       "3      4   8       1  POLYGON ((618245.176 4832760.935, 618265.362 4...\n",
       "4      5   8       1  POLYGON ((617580.388 4830923.360, 617741.347 4..."
      ]
     },
     "execution_count": null,
     "metadata": {},
     "output_type": "execute_result"
    }
   ],
   "source": [
    "toronto.head()"
   ]
  },
  {
   "cell_type": "markdown",
   "metadata": {},
   "source": [
    "##### Get a polygon and plot its street networks"
   ]
  },
  {
   "cell_type": "code",
   "execution_count": null,
   "metadata": {},
   "outputs": [],
   "source": [
    "# Get a polygon from one PD\n",
    "apd = toronto[(toronto['GTA01'] == 3) & (toronto['PD'] == 8)]\n",
    "apd_prj = apd.to_crs('epsg:4326')\n",
    "apd_polygon = apd_prj['geometry'].iloc[0]"
   ]
  },
  {
   "cell_type": "code",
   "execution_count": null,
   "metadata": {},
   "outputs": [
    {
     "name": "stderr",
     "output_type": "stream",
     "text": [
      "/home/danph/miniconda3/envs/ubdev/lib/python3.8/site-packages/osmnx/projection.py:72: FutureWarning: Assigning CRS to a GeoDataFrame without a geometry column is now deprecated and will not be supported in the future.\n",
      "  gdf.crs = crs\n"
     ]
    },
    {
     "data": {
      "image/png": "[encoded data removed]",
      "text/plain": [
       "<Figure size 325.516x432 with 1 Axes>"
      ]
     },
     "metadata": {},
     "output_type": "display_data"
    },
    {
     "name": "stdout",
     "output_type": "stream",
     "text": [
      "CPU times: user 432 ms, sys: 114 ms, total: 546 ms\n",
      "Wall time: 4.16 s\n"
     ]
    }
   ],
   "source": [
    "%%time\n",
    "# Get street map\n",
    "apd_grap = osmnx.graph_from_polygon(apd_polygon, network_type='drive')\n",
    "fig, ax = osmnx.plot_graph(apd_grap)\n",
    "fig.show()"
   ]
  },
  {
   "cell_type": "code",
   "execution_count": null,
   "metadata": {},
   "outputs": [
    {
     "name": "stderr",
     "output_type": "stream",
     "text": [
      "/home/danph/miniconda3/envs/ubdev/lib/python3.8/site-packages/osmnx/save_load.py:140: FutureWarning: Assigning CRS to a GeoDataFrame without a geometry column is now deprecated and will not be supported in the future.\n",
      "  gdf_nodes.crs = G_save.graph['crs']\n"
     ]
    }
   ],
   "source": [
    "# Save file\n",
    "osmnx.save_graph_shapefile(apd_grap,\"./data/a_pd_network_shape.zip\")"
   ]
  },
  {
   "cell_type": "code",
   "execution_count": null,
   "metadata": {},
   "outputs": [
    {
     "name": "stdout",
     "output_type": "stream",
     "text": [
      "2001_TTS_TRAFFIC_ZONES_shp.zip\tdata\t       nbh.csv\t       nodes.geojson\n",
      "a_pd_network_shape\t\tedges.geojson  neiberhood.txt\n"
     ]
    }
   ],
   "source": [
    "!ls ./data"
   ]
  },
  {
   "cell_type": "code",
   "execution_count": null,
   "metadata": {},
   "outputs": [],
   "source": [
    "gdf_nodes, gdf_edges = osmnx.graph_to_gdfs(apd_grap)"
   ]
  },
  {
   "cell_type": "code",
   "execution_count": null,
   "metadata": {},
   "outputs": [
    {
     "data": {
      "text/html": [
       "<div>\n",
       "<style scoped>\n",
       "    .dataframe tbody tr th:only-of-type {\n",
       "        vertical-align: middle;\n",
       "    }\n",
       "\n",
       "    .dataframe tbody tr th {\n",
       "        vertical-align: top;\n",
       "    }\n",
       "\n",
       "    .dataframe thead th {\n",
       "        text-align: right;\n",
       "    }\n",
       "</style>\n",
       "<table border=\"1\" class=\"dataframe\">\n",
       "  <thead>\n",
       "    <tr style=\"text-align: right;\">\n",
       "      <th></th>\n",
       "      <th>y</th>\n",
       "      <th>x</th>\n",
       "      <th>osmid</th>\n",
       "      <th>highway</th>\n",
       "      <th>geometry</th>\n",
       "    </tr>\n",
       "  </thead>\n",
       "  <tbody>\n",
       "    <tr>\n",
       "      <th>298567043</th>\n",
       "      <td>43.609356</td>\n",
       "      <td>-79.560223</td>\n",
       "      <td>298567043</td>\n",
       "      <td>traffic_signals</td>\n",
       "      <td>POINT (-79.56022 43.60936)</td>\n",
       "    </tr>\n",
       "    <tr>\n",
       "      <th>1363241220</th>\n",
       "      <td>43.608425</td>\n",
       "      <td>-79.558769</td>\n",
       "      <td>1363241220</td>\n",
       "      <td>traffic_signals</td>\n",
       "      <td>POINT (-79.55877 43.60842)</td>\n",
       "    </tr>\n",
       "    <tr>\n",
       "      <th>1363241221</th>\n",
       "      <td>43.608479</td>\n",
       "      <td>-79.558646</td>\n",
       "      <td>1363241221</td>\n",
       "      <td>traffic_signals</td>\n",
       "      <td>POINT (-79.55865 43.60848)</td>\n",
       "    </tr>\n",
       "    <tr>\n",
       "      <th>298567046</th>\n",
       "      <td>43.610000</td>\n",
       "      <td>-79.559705</td>\n",
       "      <td>298567046</td>\n",
       "      <td>stop</td>\n",
       "      <td>POINT (-79.55970 43.61000)</td>\n",
       "    </tr>\n",
       "    <tr>\n",
       "      <th>303450629</th>\n",
       "      <td>43.614120</td>\n",
       "      <td>-79.558048</td>\n",
       "      <td>303450629</td>\n",
       "      <td>NaN</td>\n",
       "      <td>POINT (-79.55805 43.61412)</td>\n",
       "    </tr>\n",
       "  </tbody>\n",
       "</table>\n",
       "</div>"
      ],
      "text/plain": [
       "                    y          x       osmid          highway  \\\n",
       "298567043   43.609356 -79.560223   298567043  traffic_signals   \n",
       "1363241220  43.608425 -79.558769  1363241220  traffic_signals   \n",
       "1363241221  43.608479 -79.558646  1363241221  traffic_signals   \n",
       "298567046   43.610000 -79.559705   298567046             stop   \n",
       "303450629   43.614120 -79.558048   303450629              NaN   \n",
       "\n",
       "                              geometry  \n",
       "298567043   POINT (-79.56022 43.60936)  \n",
       "1363241220  POINT (-79.55877 43.60842)  \n",
       "1363241221  POINT (-79.55865 43.60848)  \n",
       "298567046   POINT (-79.55970 43.61000)  \n",
       "303450629   POINT (-79.55805 43.61412)  "
      ]
     },
     "execution_count": null,
     "metadata": {},
     "output_type": "execute_result"
    }
   ],
   "source": [
    "gdf_nodes.head()"
   ]
  },
  {
   "cell_type": "code",
   "execution_count": null,
   "metadata": {},
   "outputs": [
    {
     "data": {
      "text/html": [
       "<div>\n",
       "<style scoped>\n",
       "    .dataframe tbody tr th:only-of-type {\n",
       "        vertical-align: middle;\n",
       "    }\n",
       "\n",
       "    .dataframe tbody tr th {\n",
       "        vertical-align: top;\n",
       "    }\n",
       "\n",
       "    .dataframe thead th {\n",
       "        text-align: right;\n",
       "    }\n",
       "</style>\n",
       "<table border=\"1\" class=\"dataframe\">\n",
       "  <thead>\n",
       "    <tr style=\"text-align: right;\">\n",
       "      <th></th>\n",
       "      <th>u</th>\n",
       "      <th>v</th>\n",
       "      <th>key</th>\n",
       "      <th>osmid</th>\n",
       "      <th>oneway</th>\n",
       "      <th>lanes</th>\n",
       "      <th>name</th>\n",
       "      <th>highway</th>\n",
       "      <th>length</th>\n",
       "      <th>geometry</th>\n",
       "      <th>maxspeed</th>\n",
       "      <th>ref</th>\n",
       "      <th>bridge</th>\n",
       "    </tr>\n",
       "  </thead>\n",
       "  <tbody>\n",
       "    <tr>\n",
       "      <th>0</th>\n",
       "      <td>298567043</td>\n",
       "      <td>298567070</td>\n",
       "      <td>0</td>\n",
       "      <td>27208768</td>\n",
       "      <td>True</td>\n",
       "      <td>2</td>\n",
       "      <td>Sherway Gate</td>\n",
       "      <td>tertiary</td>\n",
       "      <td>12.707</td>\n",
       "      <td>LINESTRING (-79.56022 43.60936, -79.56014 43.6...</td>\n",
       "      <td>NaN</td>\n",
       "      <td>NaN</td>\n",
       "      <td>NaN</td>\n",
       "    </tr>\n",
       "    <tr>\n",
       "      <th>1</th>\n",
       "      <td>298567043</td>\n",
       "      <td>1363241220</td>\n",
       "      <td>0</td>\n",
       "      <td>[284851424, 460667968]</td>\n",
       "      <td>True</td>\n",
       "      <td>[2, 3]</td>\n",
       "      <td>The West Mall</td>\n",
       "      <td>secondary</td>\n",
       "      <td>158.892</td>\n",
       "      <td>LINESTRING (-79.56022 43.60936, -79.56016 43.6...</td>\n",
       "      <td>60</td>\n",
       "      <td>NaN</td>\n",
       "      <td>NaN</td>\n",
       "    </tr>\n",
       "    <tr>\n",
       "      <th>2</th>\n",
       "      <td>1363241220</td>\n",
       "      <td>202309717</td>\n",
       "      <td>0</td>\n",
       "      <td>460667967</td>\n",
       "      <td>True</td>\n",
       "      <td>2</td>\n",
       "      <td>The West Mall</td>\n",
       "      <td>secondary</td>\n",
       "      <td>15.013</td>\n",
       "      <td>LINESTRING (-79.55877 43.60842, -79.55866 43.6...</td>\n",
       "      <td>60</td>\n",
       "      <td>NaN</td>\n",
       "      <td>NaN</td>\n",
       "    </tr>\n",
       "    <tr>\n",
       "      <th>3</th>\n",
       "      <td>1363241221</td>\n",
       "      <td>1363241220</td>\n",
       "      <td>0</td>\n",
       "      <td>236870639</td>\n",
       "      <td>True</td>\n",
       "      <td>3</td>\n",
       "      <td>Evans Avenue</td>\n",
       "      <td>secondary</td>\n",
       "      <td>11.526</td>\n",
       "      <td>LINESTRING (-79.55865 43.60848, -79.55877 43.6...</td>\n",
       "      <td>NaN</td>\n",
       "      <td>NaN</td>\n",
       "      <td>NaN</td>\n",
       "    </tr>\n",
       "    <tr>\n",
       "      <th>4</th>\n",
       "      <td>1363241221</td>\n",
       "      <td>298567070</td>\n",
       "      <td>0</td>\n",
       "      <td>[186986512, 236870643, 273499094]</td>\n",
       "      <td>True</td>\n",
       "      <td>[2, 4]</td>\n",
       "      <td>The West Mall</td>\n",
       "      <td>secondary</td>\n",
       "      <td>163.911</td>\n",
       "      <td>LINESTRING (-79.55865 43.60848, -79.55876 43.6...</td>\n",
       "      <td>60</td>\n",
       "      <td>NaN</td>\n",
       "      <td>NaN</td>\n",
       "    </tr>\n",
       "  </tbody>\n",
       "</table>\n",
       "</div>"
      ],
      "text/plain": [
       "            u           v  key                              osmid  oneway  \\\n",
       "0   298567043   298567070    0                           27208768    True   \n",
       "1   298567043  1363241220    0             [284851424, 460667968]    True   \n",
       "2  1363241220   202309717    0                          460667967    True   \n",
       "3  1363241221  1363241220    0                          236870639    True   \n",
       "4  1363241221   298567070    0  [186986512, 236870643, 273499094]    True   \n",
       "\n",
       "    lanes           name    highway   length  \\\n",
       "0       2   Sherway Gate   tertiary   12.707   \n",
       "1  [2, 3]  The West Mall  secondary  158.892   \n",
       "2       2  The West Mall  secondary   15.013   \n",
       "3       3   Evans Avenue  secondary   11.526   \n",
       "4  [2, 4]  The West Mall  secondary  163.911   \n",
       "\n",
       "                                            geometry maxspeed  ref bridge  \n",
       "0  LINESTRING (-79.56022 43.60936, -79.56014 43.6...      NaN  NaN    NaN  \n",
       "1  LINESTRING (-79.56022 43.60936, -79.56016 43.6...       60  NaN    NaN  \n",
       "2  LINESTRING (-79.55877 43.60842, -79.55866 43.6...       60  NaN    NaN  \n",
       "3  LINESTRING (-79.55865 43.60848, -79.55877 43.6...      NaN  NaN    NaN  \n",
       "4  LINESTRING (-79.55865 43.60848, -79.55876 43.6...       60  NaN    NaN  "
      ]
     },
     "execution_count": null,
     "metadata": {},
     "output_type": "execute_result"
    }
   ],
   "source": [
    "gdf_edges.head()"
   ]
  },
  {
   "cell_type": "code",
   "execution_count": null,
   "metadata": {},
   "outputs": [
    {
     "data": {
      "text/html": [
       "<div>\n",
       "<style scoped>\n",
       "    .dataframe tbody tr th:only-of-type {\n",
       "        vertical-align: middle;\n",
       "    }\n",
       "\n",
       "    .dataframe tbody tr th {\n",
       "        vertical-align: top;\n",
       "    }\n",
       "\n",
       "    .dataframe thead th {\n",
       "        text-align: right;\n",
       "    }\n",
       "</style>\n",
       "<table border=\"1\" class=\"dataframe\">\n",
       "  <thead>\n",
       "    <tr style=\"text-align: right;\">\n",
       "      <th></th>\n",
       "      <th>u</th>\n",
       "      <th>v</th>\n",
       "      <th>key</th>\n",
       "      <th>osmid</th>\n",
       "      <th>oneway</th>\n",
       "      <th>lanes</th>\n",
       "      <th>name</th>\n",
       "      <th>highway</th>\n",
       "      <th>length</th>\n",
       "      <th>geometry</th>\n",
       "      <th>maxspeed</th>\n",
       "      <th>ref</th>\n",
       "      <th>bridge</th>\n",
       "    </tr>\n",
       "  </thead>\n",
       "  <tbody>\n",
       "    <tr>\n",
       "      <th>0</th>\n",
       "      <td>298567043</td>\n",
       "      <td>298567070</td>\n",
       "      <td>0</td>\n",
       "      <td>27208768</td>\n",
       "      <td>True</td>\n",
       "      <td>2</td>\n",
       "      <td>Sherway Gate</td>\n",
       "      <td>tertiary</td>\n",
       "      <td>12.707</td>\n",
       "      <td>LINESTRING (-79.56022 43.60936, -79.56014 43.6...</td>\n",
       "      <td>NaN</td>\n",
       "      <td>NaN</td>\n",
       "      <td>NaN</td>\n",
       "    </tr>\n",
       "    <tr>\n",
       "      <th>1</th>\n",
       "      <td>298567043</td>\n",
       "      <td>1363241220</td>\n",
       "      <td>0</td>\n",
       "      <td>[284851424, 460667968]</td>\n",
       "      <td>True</td>\n",
       "      <td>[2, 3]</td>\n",
       "      <td>The West Mall</td>\n",
       "      <td>secondary</td>\n",
       "      <td>158.892</td>\n",
       "      <td>LINESTRING (-79.56022 43.60936, -79.56016 43.6...</td>\n",
       "      <td>60</td>\n",
       "      <td>NaN</td>\n",
       "      <td>NaN</td>\n",
       "    </tr>\n",
       "    <tr>\n",
       "      <th>2</th>\n",
       "      <td>1363241220</td>\n",
       "      <td>202309717</td>\n",
       "      <td>0</td>\n",
       "      <td>460667967</td>\n",
       "      <td>True</td>\n",
       "      <td>2</td>\n",
       "      <td>The West Mall</td>\n",
       "      <td>secondary</td>\n",
       "      <td>15.013</td>\n",
       "      <td>LINESTRING (-79.55877 43.60842, -79.55866 43.6...</td>\n",
       "      <td>60</td>\n",
       "      <td>NaN</td>\n",
       "      <td>NaN</td>\n",
       "    </tr>\n",
       "    <tr>\n",
       "      <th>3</th>\n",
       "      <td>1363241221</td>\n",
       "      <td>1363241220</td>\n",
       "      <td>0</td>\n",
       "      <td>236870639</td>\n",
       "      <td>True</td>\n",
       "      <td>3</td>\n",
       "      <td>Evans Avenue</td>\n",
       "      <td>secondary</td>\n",
       "      <td>11.526</td>\n",
       "      <td>LINESTRING (-79.55865 43.60848, -79.55877 43.6...</td>\n",
       "      <td>NaN</td>\n",
       "      <td>NaN</td>\n",
       "      <td>NaN</td>\n",
       "    </tr>\n",
       "    <tr>\n",
       "      <th>4</th>\n",
       "      <td>1363241221</td>\n",
       "      <td>298567070</td>\n",
       "      <td>0</td>\n",
       "      <td>[186986512, 236870643, 273499094]</td>\n",
       "      <td>True</td>\n",
       "      <td>[2, 4]</td>\n",
       "      <td>The West Mall</td>\n",
       "      <td>secondary</td>\n",
       "      <td>163.911</td>\n",
       "      <td>LINESTRING (-79.55865 43.60848, -79.55876 43.6...</td>\n",
       "      <td>60</td>\n",
       "      <td>NaN</td>\n",
       "      <td>NaN</td>\n",
       "    </tr>\n",
       "  </tbody>\n",
       "</table>\n",
       "</div>"
      ],
      "text/plain": [
       "            u           v  key                              osmid  oneway  \\\n",
       "0   298567043   298567070    0                           27208768    True   \n",
       "1   298567043  1363241220    0             [284851424, 460667968]    True   \n",
       "2  1363241220   202309717    0                          460667967    True   \n",
       "3  1363241221  1363241220    0                          236870639    True   \n",
       "4  1363241221   298567070    0  [186986512, 236870643, 273499094]    True   \n",
       "\n",
       "    lanes           name    highway   length  \\\n",
       "0       2   Sherway Gate   tertiary   12.707   \n",
       "1  [2, 3]  The West Mall  secondary  158.892   \n",
       "2       2  The West Mall  secondary   15.013   \n",
       "3       3   Evans Avenue  secondary   11.526   \n",
       "4  [2, 4]  The West Mall  secondary  163.911   \n",
       "\n",
       "                                            geometry maxspeed  ref bridge  \n",
       "0  LINESTRING (-79.56022 43.60936, -79.56014 43.6...      NaN  NaN    NaN  \n",
       "1  LINESTRING (-79.56022 43.60936, -79.56016 43.6...       60  NaN    NaN  \n",
       "2  LINESTRING (-79.55877 43.60842, -79.55866 43.6...       60  NaN    NaN  \n",
       "3  LINESTRING (-79.55865 43.60848, -79.55877 43.6...      NaN  NaN    NaN  \n",
       "4  LINESTRING (-79.55865 43.60848, -79.55876 43.6...       60  NaN    NaN  "
      ]
     },
     "execution_count": null,
     "metadata": {},
     "output_type": "execute_result"
    }
   ],
   "source": [
    "gdf_edges.head()"
   ]
  },
  {
   "cell_type": "code",
   "execution_count": null,
   "metadata": {},
   "outputs": [],
   "source": [
    "# Save into geojson file\n",
    "gdf_nodes.to_file('./data/nodes.geojson', driver='GeoJSON')"
   ]
  },
  {
   "cell_type": "code",
   "execution_count": null,
   "metadata": {},
   "outputs": [],
   "source": [
    "# Cannot save edges?\n",
    "# gdf_edges.to_file('./data/edges.geojson', driver='GeoJSON')"
   ]
  },
  {
   "cell_type": "markdown",
   "metadata": {},
   "source": [
    "\n"
   ]
  },
  {
   "cell_type": "markdown",
   "metadata": {},
   "source": [
    "### Melbourne, Australia"
   ]
  },
  {
   "cell_type": "code",
   "execution_count": null,
   "metadata": {},
   "outputs": [],
   "source": []
  },
  {
   "cell_type": "code",
   "execution_count": null,
   "metadata": {},
   "outputs": [],
   "source": []
  }
 ],
 "metadata": {
  "kernelspec": {
   "display_name": "Python 3",
   "language": "python",
   "name": "python3"
  }
 },
 "nbformat": 4,
 "nbformat_minor": 4
}
