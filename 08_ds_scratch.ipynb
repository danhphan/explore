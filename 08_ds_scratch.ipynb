{
 "cells": [
  {
   "cell_type": "code",
   "execution_count": null,
   "metadata": {},
   "outputs": [],
   "source": [
    "# default_exp ds_scratch"
   ]
  },
  {
   "cell_type": "markdown",
   "metadata": {},
   "source": [
    "# Data sciecne from scratch\n",
    "\n",
    "> Why linear_algebra?"
   ]
  },
  {
   "cell_type": "code",
   "execution_count": null,
   "metadata": {},
   "outputs": [],
   "source": [
    "#hide\n",
    "from nbdev.showdoc import *"
   ]
  },
  {
   "cell_type": "markdown",
   "metadata": {},
   "source": [
    "### Vectors"
   ]
  },
  {
   "cell_type": "code",
   "execution_count": null,
   "metadata": {},
   "outputs": [
    {
     "name": "stdout",
     "output_type": "stream",
     "text": [
      "v + w:  [3, 5, 6]\n",
      "v - w:  [-1, 1, 2]\n",
      "sum vectors:  [3, 5, 6]\n"
     ]
    }
   ],
   "source": [
    "# Vector is a list\n",
    "def vector_add(v, w):\n",
    "    return [v_i + w_i for v_i, w_i in zip(v, w)]\n",
    "\n",
    "def vector_subtract(v,w):\n",
    "    return [v_i - w_i for v_i, w_i in  zip(v, w)]\n",
    "\n",
    "def vector_sum(vectors):\n",
    "    result = vectors[0]\n",
    "    for vector in vectors[1:]:\n",
    "        result = vector_add(result, vector)\n",
    "    return result\n",
    "\n",
    "# Test\n",
    "v = [1, 3, 4]\n",
    "w = [2, 2, 2]\n",
    "print(\"v + w: \", vector_add(v, w))\n",
    "print(\"v - w: \", vector_subtract(v, w))\n",
    "print(\"sum vectors: \", vector_sum([v, w]))"
   ]
  },
  {
   "cell_type": "code",
   "execution_count": null,
   "metadata": {},
   "outputs": [
    {
     "name": "stdout",
     "output_type": "stream",
     "text": [
      "Scalar:  [5, 15, 20]\n",
      "vector sum:  [7, 9, 11, 13]\n",
      "vector mean:  [2.333333333333333, 3.0, 3.6666666666666665, 4.333333333333333]\n"
     ]
    }
   ],
   "source": [
    "def scalar_multiply(c, v):\n",
    "    \"\"\"c is number, v is vector\"\"\"\n",
    "    return [c*v_i for v_i in v]\n",
    "    \n",
    "def vector_mean(vectors):\n",
    "    n = len(vectors)\n",
    "    return scalar_multiply(1/n, vector_sum(vectors))\n",
    "\n",
    "c = 5\n",
    "v = [1, 3, 4]\n",
    "print(\"Scalar: \", scalar_multiply(c, v))\n",
    "vs = [[1, 2, 3, 4],\n",
    "      [4, 5, 6, 7],\n",
    "      [2, 2, 2, 2]]\n",
    "print(\"vector sum: \", vector_sum(vs))\n",
    "print(\"vector mean: \", vector_mean(vs))"
   ]
  },
  {
   "cell_type": "code",
   "execution_count": null,
   "metadata": {},
   "outputs": [
    {
     "name": "stdout",
     "output_type": "stream",
     "text": [
      "v [1, 3, 4] w [2, 2, 2]\n",
      "v*w 16\n",
      "v*v 26\n",
      "magnitude 5.0990195135927845\n"
     ]
    }
   ],
   "source": [
    "def dot(v,w):\n",
    "    return sum(v_i*w_i for v_i,w_i in zip(v,w))\n",
    "\n",
    "def sum_of_squares(v):\n",
    "    return dot(v,v)\n",
    "\n",
    "import math\n",
    "def magnitude(v):\n",
    "    return math.sqrt(sum_of_squares(v))\n",
    "    \n",
    "print(\"v\", v, \"w\", w)\n",
    "print(\"v*w\", dot(v,w))\n",
    "print(\"v*v\", sum_of_squares(v))\n",
    "print(\"magnitude\", magnitude(v))"
   ]
  },
  {
   "cell_type": "code",
   "execution_count": null,
   "metadata": {},
   "outputs": [],
   "source": [
    "def squared_distance(v,w):\n",
    "    return sum_of_squares(vector_subtract(v,w))\n",
    "\n",
    "def distance(v, w):\n",
    "    return magnitude(vector_subtract(v,w))"
   ]
  },
  {
   "cell_type": "markdown",
   "metadata": {},
   "source": [
    "### Statistics"
   ]
  },
  {
   "cell_type": "code",
   "execution_count": null,
   "metadata": {},
   "outputs": [
    {
     "name": "stdout",
     "output_type": "stream",
     "text": [
      "3.0 3 4.0 3\n"
     ]
    },
    {
     "data": {
      "text/plain": [
       "(1, 2, 3, 4)"
      ]
     },
     "execution_count": null,
     "metadata": {},
     "output_type": "execute_result"
    }
   ],
   "source": [
    "# Mean, median and quantile\n",
    "def mean(v):\n",
    "    return sum(v)/len(v)\n",
    "\n",
    "def median(v):\n",
    "    n = len(v)\n",
    "    sorted_v = sorted(v)\n",
    "    midpoint = n//2\n",
    "    if n % 2 == 1:\n",
    "        # If odd, return the middle values\n",
    "        return sorted_v[midpoint]\n",
    "    else:\n",
    "        return (sorted_v[midpoint-1] + sorted_v[midpoint])/2\n",
    "\n",
    "def quantile(x, p):\n",
    "    \"\"\"returns the pth-percentile value in x\"\"\"\n",
    "    p_index = int(p*len(x))\n",
    "    return sorted(x)[p_index]\n",
    "\n",
    "# Test\n",
    "x, y = [1, 2, 3, 4, 5], [1, 2, 3, 4, 10]\n",
    "print(mean(x), median(x), mean(y), median(y))\n",
    "quantile(x, 0.1), quantile(x, 0.3), quantile(x, 0.5), quantile(x, 0.78)"
   ]
  },
  {
   "cell_type": "code",
   "execution_count": null,
   "metadata": {},
   "outputs": [
    {
     "name": "stdout",
     "output_type": "stream",
     "text": [
      "[1, 2, 3, 4, 5] [-2.0, -1.0, 0.0, 1.0, 2.0] 2.0 1.4142135623730951\n"
     ]
    }
   ],
   "source": [
    "# variance and standard deviation\n",
    "\n",
    "def data_range(x):\n",
    "    return max(x) - min(x)\n",
    "\n",
    "def de_mean(x):\n",
    "    x_bar = mean(x)\n",
    "    return [x_i - x_bar for x_i in x]\n",
    "\n",
    "def variance(x):\n",
    "    \"\"\"variance from mean\"\"\"\n",
    "    n = len(x)\n",
    "    deviations = de_mean(x)\n",
    "    return sum_of_squares(deviations)/(n)  # sum_of_squares(deviations)/(n-1)\n",
    "\n",
    "def standard_deviation(x):\n",
    "    return math.sqrt(variance(x))\n",
    "\n",
    "# Test\n",
    "x = [1, 2, 3, 4, 5]\n",
    "print(x, de_mean(x), variance(x), standard_deviation(x))\n",
    "import numpy as np\n",
    "assert np.std(x) == standard_deviation(x)"
   ]
  },
  {
   "cell_type": "code",
   "execution_count": null,
   "metadata": {},
   "outputs": [
    {
     "name": "stdout",
     "output_type": "stream",
     "text": [
      "5.5 14.5 9 99 2.8722813232690143 28.605069480775605\n",
      "8 3 5 5\n"
     ]
    }
   ],
   "source": [
    "# Outlier problems with range and standard deviation\n",
    "x = [1, 2, 3, 4, 5, 6, 7, 8, 9, 10]\n",
    "y = [1, 2, 3, 4, 5, 6, 7, 8, 9, 100]\n",
    "print(mean(x), mean(y), data_range(x), data_range(y), standard_deviation(x), standard_deviation(y))\n",
    "\n",
    "# A more robust alternative\n",
    "def interquantile_range(x):\n",
    "    return quantile(x, .75) - quantile(x, 0.25)\n",
    "\n",
    "print(quantile(x,.75), quantile(x, 0.25), interquantile_range(x), interquantile_range(y))"
   ]
  },
  {
   "cell_type": "code",
   "execution_count": null,
   "metadata": {},
   "outputs": [
    {
     "data": {
      "text/plain": [
       "(54.166666666666664,\n",
       " 0.6592682021348686,\n",
       " -45.833333333333336,\n",
       " -0.5050505050505051)"
      ]
     },
     "execution_count": null,
     "metadata": {},
     "output_type": "execute_result"
    }
   ],
   "source": [
    "# Covariance and correlation\n",
    "def covariance(x,y):\n",
    "    n = len(x)\n",
    "    return dot(de_mean(x), de_mean(y))/(n-1)\n",
    "\n",
    "def correlation(x,y):\n",
    "    \"\"\"Return correlation in [-1, 1], zero means no correlation\"\"\"\n",
    "    stdev_x, stdev_y = standard_deviation(x), standard_deviation(y)\n",
    "    if stdev_x > 0 and stdev_y > 0:\n",
    "        return covariance(x, y) / stdev_x / stdev_y\n",
    "    else:\n",
    "        return 0 # If no variation, corellation is zero\n",
    "    \n",
    "x = [1, 2, 3, 4, 5, 6, 7, 8, 9, 10]\n",
    "y = [1, 2, 3, 4, 5, 6, 7, 8, 9, 100]\n",
    "z = [1, 2, 3, 4, 5, 6, 7, 8, 9, -100]\n",
    "covariance(x, y), correlation(x, y), covariance(x, z), correlation(x, z)"
   ]
  },
  {
   "cell_type": "code",
   "execution_count": null,
   "metadata": {},
   "outputs": [
    {
     "data": {
      "text/plain": [
       "3.2706521026891724e-17"
      ]
     },
     "execution_count": null,
     "metadata": {},
     "output_type": "execute_result"
    }
   ],
   "source": [
    "# Becareful with correlation\n",
    "x = [1, 2, 3, 4, 0, 1, 2, 3, 4] # x = abs(y), but correlation is zero\n",
    "y = [1, 2, 3, 4, 0, -1, -2, -3, -4]\n",
    "correlation(x, y)"
   ]
  },
  {
   "cell_type": "code",
   "execution_count": null,
   "metadata": {},
   "outputs": [],
   "source": []
  }
 ],
 "metadata": {
  "kernelspec": {
   "display_name": "Python 3",
   "language": "python",
   "name": "python3"
  }
 },
 "nbformat": 4,
 "nbformat_minor": 2
}
