{
 "cells": [
  {
   "cell_type": "code",
   "execution_count": null,
   "metadata": {},
   "outputs": [],
   "source": [
    "# default_exp pytorch_weight_decay"
   ]
  },
  {
   "cell_type": "markdown",
   "metadata": {},
   "source": [
    "# Pytorch weight decay\n",
    "\n",
    "> Pytorch weight decay or L2 penalty"
   ]
  },
  {
   "cell_type": "code",
   "execution_count": null,
   "metadata": {},
   "outputs": [],
   "source": [
    "#hide\n",
    "from nbdev.showdoc import *"
   ]
  },
  {
   "cell_type": "code",
   "execution_count": null,
   "metadata": {},
   "outputs": [],
   "source": [
    "import numpy as np\n",
    "import torch"
   ]
  },
  {
   "cell_type": "code",
   "execution_count": null,
   "metadata": {},
   "outputs": [],
   "source": [
    "np.random.seed(123)\n",
    "np.set_printoptions(8, suppress=True)"
   ]
  },
  {
   "cell_type": "markdown",
   "metadata": {},
   "source": [
    "### Without weight decay"
   ]
  },
  {
   "cell_type": "code",
   "execution_count": null,
   "metadata": {},
   "outputs": [],
   "source": [
    "x_np = np.random.random((3,4)).astype(np.double)\n",
    "w_np = np.random.random((4,5)).astype(np.double)\n",
    "x_tensor = torch.tensor(x_np, requires_grad=True)\n",
    "w_tensor = torch.tensor(w_np, requires_grad=True)"
   ]
  },
  {
   "cell_type": "code",
   "execution_count": null,
   "metadata": {},
   "outputs": [
    {
     "name": "stdout",
     "output_type": "stream",
     "text": [
      "Original weights: \n",
      " tensor([[ 0.1507,  0.1129,  0.2012, -0.5800, -0.6269],\n",
      "        [-0.7232, -0.4622, -0.4373, -0.2994, -0.7394],\n",
      "        [-0.4603,  0.1499, -0.1938,  0.1462, -0.6543],\n",
      "        [ 0.1149,  0.4953,  0.1455, -0.2306,  0.2811]], dtype=torch.float64,\n",
      "       requires_grad=True)\n",
      "Zero weight decay: \n",
      " tensor([[-0.0264, -0.0643,  0.0241, -0.7572, -0.8040],\n",
      "        [-0.9386, -0.6776, -0.6527, -0.5148, -0.9548],\n",
      "        [-0.6258, -0.0155, -0.3592, -0.0192, -0.8197],\n",
      "        [ 0.0058,  0.3861,  0.0364, -0.3397,  0.1719]], dtype=torch.float64,\n",
      "       requires_grad=True)\n"
     ]
    }
   ],
   "source": [
    "print(\"Original weights: \\n\", w_tensor)\n",
    "\n",
    "lr  = 0.1\n",
    "sgd = torch.optim.SGD([w_tensor], lr=lr, weight_decay=0)\n",
    "\n",
    "y_tensor = torch.matmul(x_tensor, w_tensor)\n",
    "loss = y_tensor.sum()\n",
    "\n",
    "sgd.zero_grad()\n",
    "loss.backward()\n",
    "sgd.step()\n",
    "\n",
    "w_grad = w_tensor.grad\n",
    "\n",
    "print(\"Zero weight decay: \\n\", w_tensor)"
   ]
  },
  {
   "cell_type": "markdown",
   "metadata": {},
   "source": [
    "### With weight decay"
   ]
  },
  {
   "cell_type": "code",
   "execution_count": null,
   "metadata": {},
   "outputs": [
    {
     "name": "stdout",
     "output_type": "stream",
     "text": [
      "Reset original weights: \n",
      " tensor([[0.8594, 0.8215, 0.9099, 0.1286, 0.0818],\n",
      "        [0.1384, 0.3994, 0.4243, 0.5622, 0.1222],\n",
      "        [0.2014, 0.8116, 0.4680, 0.8079, 0.0074],\n",
      "        [0.5516, 0.9319, 0.5822, 0.2061, 0.7178]], dtype=torch.float64,\n",
      "       requires_grad=True)\n",
      "One weight decay: \n",
      " tensor([[ 0.5963,  0.5622,  0.6417, -0.0614, -0.1036],\n",
      "        [-0.0908,  0.1440,  0.1665,  0.2906, -0.1054],\n",
      "        [ 0.0158,  0.5650,  0.2558,  0.5617, -0.1588],\n",
      "        [ 0.3873,  0.7296,  0.4148,  0.0763,  0.5368]], dtype=torch.float64,\n",
      "       requires_grad=True)\n"
     ]
    }
   ],
   "source": [
    "w_tensor = torch.tensor(w_np, requires_grad=True)\n",
    "print(\"Reset original weights: \\n\", w_tensor)\n",
    "\n",
    "sgd = torch.optim.SGD([w_tensor], lr=lr, weight_decay=1)\n",
    "\n",
    "y_tensor = torch.matmul(x_tensor, w_tensor)\n",
    "loss = y_tensor.sum()\n",
    "\n",
    "sgd.zero_grad()\n",
    "loss.backward()\n",
    "sgd.step()\n",
    "\n",
    "w_grad = w_tensor.grad\n",
    "\n",
    "print(\"One weight decay: \\n\", w_tensor)"
   ]
  },
  {
   "cell_type": "code",
   "execution_count": null,
   "metadata": {},
   "outputs": [],
   "source": []
  }
 ],
 "metadata": {
  "kernelspec": {
   "display_name": "Python 3",
   "language": "python",
   "name": "python3"
  }
 },
 "nbformat": 4,
 "nbformat_minor": 2
}
